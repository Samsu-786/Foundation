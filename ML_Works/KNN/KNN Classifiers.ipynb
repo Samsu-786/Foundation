{
 "cells": [
  {
   "cell_type": "code",
   "execution_count": 25,
   "id": "960aaa8f",
   "metadata": {},
   "outputs": [],
   "source": [
    "import pandas as pd \n",
    "import numpy as np\n",
    "import seaborn as sns\n",
    "import matplotlib.pyplot as plt\n",
    "from sklearn.datasets import load_digits"
   ]
  },
  {
   "cell_type": "code",
   "execution_count": 26,
   "id": "dc62ea03",
   "metadata": {},
   "outputs": [],
   "source": [
    "df = load_digits()"
   ]
  },
  {
   "cell_type": "code",
   "execution_count": 27,
   "id": "a068cb71",
   "metadata": {},
   "outputs": [],
   "source": [
    "Features = df.data"
   ]
  },
  {
   "cell_type": "code",
   "execution_count": 28,
   "id": "2587913b",
   "metadata": {},
   "outputs": [],
   "source": [
    "Target = df.target"
   ]
  },
  {
   "cell_type": "code",
   "execution_count": 29,
   "id": "8e5e7399",
   "metadata": {},
   "outputs": [],
   "source": [
    "from sklearn.model_selection import train_test_split"
   ]
  },
  {
   "cell_type": "code",
   "execution_count": 30,
   "id": "e10487fc",
   "metadata": {},
   "outputs": [],
   "source": [
    "X_train, X_test, Y_train, Y_test = train_test_split(Features, Target, test_size=0.2)"
   ]
  },
  {
   "cell_type": "code",
   "execution_count": 31,
   "id": "d1cbf9d3",
   "metadata": {},
   "outputs": [],
   "source": [
    "from sklearn.neighbors import KNeighborsClassifier"
   ]
  },
  {
   "cell_type": "code",
   "execution_count": 32,
   "id": "6c98b10e",
   "metadata": {},
   "outputs": [],
   "source": [
    "model = KNeighborsClassifier(n_neighbors=3)"
   ]
  },
  {
   "cell_type": "code",
   "execution_count": 33,
   "id": "dd8a594b",
   "metadata": {},
   "outputs": [
    {
     "data": {
      "text/plain": [
       "KNeighborsClassifier(n_neighbors=3)"
      ]
     },
     "execution_count": 33,
     "metadata": {},
     "output_type": "execute_result"
    }
   ],
   "source": [
    "model.fit(X_train, Y_train)"
   ]
  },
  {
   "cell_type": "code",
   "execution_count": 34,
   "id": "002f0746",
   "metadata": {},
   "outputs": [
    {
     "data": {
      "text/plain": [
       "0.9916666666666667"
      ]
     },
     "execution_count": 34,
     "metadata": {},
     "output_type": "execute_result"
    }
   ],
   "source": [
    "model.score(X_test, Y_test)"
   ]
  },
  {
   "cell_type": "code",
   "execution_count": 35,
   "id": "3164264e",
   "metadata": {},
   "outputs": [
    {
     "data": {
      "text/plain": [
       "1437"
      ]
     },
     "execution_count": 35,
     "metadata": {},
     "output_type": "execute_result"
    }
   ],
   "source": [
    "len(X_train)"
   ]
  },
  {
   "cell_type": "code",
   "execution_count": 36,
   "id": "2a0e1573",
   "metadata": {},
   "outputs": [
    {
     "data": {
      "text/plain": [
       "360"
      ]
     },
     "execution_count": 36,
     "metadata": {},
     "output_type": "execute_result"
    }
   ],
   "source": [
    "len(X_test)"
   ]
  },
  {
   "cell_type": "code",
   "execution_count": 37,
   "id": "2494213c",
   "metadata": {},
   "outputs": [
    {
     "name": "stdout",
     "output_type": "stream",
     "text": [
      "1 0.9888888888888889\n",
      "2 0.9916666666666667\n",
      "3 0.9916666666666667\n",
      "4 0.9916666666666667\n",
      "5 0.9888888888888889\n",
      "6 0.9888888888888889\n",
      "7 0.9888888888888889\n",
      "8 0.9888888888888889\n",
      "9 0.9861111111111112\n",
      "10 0.9833333333333333\n",
      "11 0.9861111111111112\n",
      "12 0.9888888888888889\n",
      "13 0.9833333333333333\n",
      "14 0.9861111111111112\n",
      "15 0.9833333333333333\n",
      "16 0.9833333333333333\n",
      "17 0.9833333333333333\n",
      "18 0.9805555555555555\n",
      "19 0.9805555555555555\n",
      "20 0.9805555555555555\n",
      "21 0.9833333333333333\n",
      "22 0.9833333333333333\n",
      "23 0.9805555555555555\n",
      "24 0.9805555555555555\n",
      "25 0.9777777777777777\n",
      "26 0.9777777777777777\n",
      "27 0.9777777777777777\n",
      "28 0.975\n",
      "29 0.9777777777777777\n",
      "30 0.9777777777777777\n",
      "31 0.9777777777777777\n",
      "32 0.9777777777777777\n",
      "33 0.975\n",
      "34 0.9777777777777777\n",
      "35 0.9777777777777777\n",
      "36 0.9777777777777777\n",
      "37 0.9777777777777777\n",
      "38 0.975\n",
      "39 0.975\n"
     ]
    }
   ],
   "source": [
    "error = []\n",
    "\n",
    "for i in range (1,40):\n",
    "    model = KNeighborsClassifier(n_neighbors=i)\n",
    "    model.fit(X_train, Y_train)\n",
    "    pred = model.predict(X_test)\n",
    "    print(i,model.score(X_test, Y_test))\n",
    "    error.append(np.mean(pred != Y_test))"
   ]
  },
  {
   "cell_type": "code",
   "execution_count": 38,
   "id": "6448104a",
   "metadata": {},
   "outputs": [
    {
     "data": {
      "text/plain": [
       "[<matplotlib.lines.Line2D at 0x2179ffdbd60>]"
      ]
     },
     "execution_count": 38,
     "metadata": {},
     "output_type": "execute_result"
    },
    {
     "data": {
      "image/png": "[encoded data removed]",
      "text/plain": [
       "<Figure size 432x288 with 1 Axes>"
      ]
     },
     "metadata": {
      "needs_background": "light"
     },
     "output_type": "display_data"
    }
   ],
   "source": [
    "plt.plot(range(1,40), error, marker = 'o')"
   ]
  },
  {
   "cell_type": "code",
   "execution_count": null,
   "id": "4dd555b3",
   "metadata": {},
   "outputs": [],
   "source": []
  }
 ],
 "metadata": {
  "kernelspec": {
   "display_name": "Python 3 (ipykernel)",
   "language": "python",
   "name": "python3"
  },
  "language_info": {
   "codemirror_mode": {
    "name": "ipython",
    "version": 3
   },
   "file_extension": ".py",
   "mimetype": "text/x-python",
   "name": "python",
   "nbconvert_exporter": "python",
   "pygments_lexer": "ipython3",
   "version": "3.9.7"
  }
 },
 "nbformat": 4,
 "nbformat_minor": 5
}
