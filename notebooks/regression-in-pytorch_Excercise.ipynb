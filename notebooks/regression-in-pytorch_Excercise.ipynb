{
  "nbformat": 4,
  "nbformat_minor": 0,
  "metadata": {
    "kernelspec": {
      "display_name": "Python 3",
      "language": "python",
      "name": "python3"
    },
    "language_info": {
      "codemirror_mode": {
        "name": "ipython",
        "version": 3
      },
      "file_extension": ".py",
      "mimetype": "text/x-python",
      "name": "python",
      "nbconvert_exporter": "python",
      "pygments_lexer": "ipython3",
      "version": "3.7.6"
    },
    "colab": {
      "name": "regression-in-pytorch.ipynb",
      "provenance": [],
      "include_colab_link": true
    }
  },
  "cells": [
    {
      "cell_type": "markdown",
      "metadata": {
        "id": "view-in-github",
        "colab_type": "text"
      },
      "source": [
        "<a href=\"https://colab.research.google.com/github/Samsu-786/ML-foundations/blob/master/notebooks/regression-in-pytorch_Excercise.ipynb\" target=\"_parent\"><img src=\"https://colab.research.google.com/assets/colab-badge.svg\" alt=\"Open In Colab\"/></a>"
      ]
    },
    {
      "cell_type": "markdown",
      "metadata": {
        "id": "oIX4xnrwiFZX"
      },
      "source": [
        "# Regression in PyTorch Excercise"
      ]
    },
    {
      "cell_type": "markdown",
      "metadata": {
        "id": "XZJhl8MciFZY"
      },
      "source": [
        "In this notebook, we use the PyTorch **automatic differentiation** library to fit a straight line to data points. Thus, here we use calculus to solve the same regression problem that we used the Moore-Penrose Pseudoinverse to solve in the [*Linear Algebra II* notebook](https://github.com/jonkrohn/ML-foundations/blob/master/notebooks/2-linear-algebra-ii.ipynb)."
      ]
    },
    {
      "cell_type": "code",
      "metadata": {
        "id": "SdljCv4y09g-"
      },
      "source": [
        "import torch\n",
        "import matplotlib.pyplot as plt"
      ],
      "execution_count": 1,
      "outputs": []
    },
    {
      "cell_type": "code",
      "metadata": {
        "id": "RHG-NNVF09g_",
        "outputId": "db44fe16-e62c-407b-8a8f-2cf1bf5e915f",
        "colab": {
          "base_uri": "https://localhost:8080/"
        }
      },
      "source": [
        "x = torch.tensor([0, 1, 2, 3, 4, 5, 6, 7., 9., 10., 14.]) # E.g.: Dosage of drug for treating Alzheimer's disease\n",
        "x"
      ],
      "execution_count": 2,
      "outputs": [
        {
          "output_type": "execute_result",
          "data": {
            "text/plain": [
              "tensor([ 0.,  1.,  2.,  3.,  4.,  5.,  6.,  7.,  9., 10., 14.])"
            ]
          },
          "metadata": {},
          "execution_count": 2
        }
      ]
    },
    {
      "cell_type": "markdown",
      "metadata": {
        "id": "kbPWO45yiFZi"
      },
      "source": [
        "The $y$ values were created using the equation of a line $y = mx + b$. This way, we know what the model parameters to be learned are, say, $m = -1$ and $b = 4$. Random, normally-distributed noise has been added to simulate sampling error:"
      ]
    },
    {
      "cell_type": "code",
      "metadata": {
        "id": "R6Z0z32d09hA"
      },
      "source": [
        "# y = -1*x + 4 + torch.normal(mean=torch.zeros(11), std=0.2)"
      ],
      "execution_count": 3,
      "outputs": []
    },
    {
      "cell_type": "markdown",
      "metadata": {
        "id": "jW-52Td409hA"
      },
      "source": [
        "For reproducibility of this demo, here's a fixed example of $y$ values obtained by running the commented-out line above:"
      ]
    },
    {
      "cell_type": "code",
      "metadata": {
        "id": "mntwNZyB09hA",
        "outputId": "589e27c9-d17f-4dcf-c03d-24b7ae5bffbd",
        "colab": {
          "base_uri": "https://localhost:8080/"
        }
      },
      "source": [
        "y = torch.tensor([  4.1176,   2.7681,   1.7491,   0.8914,   0.0229,  -1.2649,  -2.2945,\n",
        "         -2.9346,  -5.1173,  -6.0588, -10.0651]) # E.g.: Patient's \"forgetfulness score\"\n",
        "y"
      ],
      "execution_count": 4,
      "outputs": [
        {
          "output_type": "execute_result",
          "data": {
            "text/plain": [
              "tensor([  4.1176,   2.7681,   1.7491,   0.8914,   0.0229,  -1.2649,  -2.2945,\n",
              "         -2.9346,  -5.1173,  -6.0588, -10.0651])"
            ]
          },
          "metadata": {},
          "execution_count": 4
        }
      ]
    },
    {
      "cell_type": "code",
      "metadata": {
        "id": "poVitT8409hA",
        "outputId": "f3aa956a-3629-4f24-e77c-14f8017ec58d",
        "colab": {
          "base_uri": "https://localhost:8080/",
          "height": 472
        }
      },
      "source": [
        "fig, ax = plt.subplots()\n",
        "plt.title(\"Clinical Trial\")\n",
        "plt.xlabel(\"Drug dosage (mL)\")\n",
        "plt.ylabel(\"Forgetfulness\")\n",
        "_ = ax.scatter(x, y)"
      ],
      "execution_count": 5,
      "outputs": [
        {
          "output_type": "display_data",
          "data": {
            "text/plain": [
              "<Figure size 640x480 with 1 Axes>"
            ],
            "image/png": "[encoded data removed]"
          },
          "metadata": {}
        }
      ]
    },
    {
      "cell_type": "markdown",
      "metadata": {
        "id": "6hl2KtAM09hB"
      },
      "source": [
        "Initialize the slope parameter $m$ with a \"random\" value of 0.5..."
      ]
    },
    {
      "cell_type": "markdown",
      "metadata": {
        "id": "hvAa4nXz09hB"
      },
      "source": [
        "(**N.B.**: In this simple demo, we could guess approximately-correct parameter values to start with. Or, we could use an algebraic (e.g., Moore-Penrose pseudoinverse) or statistical (e.g., ordinary-least-squares regression) to solve for the parameters quickly. This tiny machine learning demo with two parameters and eight data points scales, however, to millions of parameters and millions of data points. The other approaches -- guessing, algebra, statistics -- do not come close to scaling in this way.)"
      ]
    },
    {
      "cell_type": "code",
      "metadata": {
        "id": "IXY3nd3r09hB",
        "outputId": "04b5d9ce-ee1e-4542-970d-c918d448214a",
        "colab": {
          "base_uri": "https://localhost:8080/"
        }
      },
      "source": [
        "m = torch.tensor([0.5]).requires_grad_()\n",
        "m"
      ],
      "execution_count": 6,
      "outputs": [
        {
          "output_type": "execute_result",
          "data": {
            "text/plain": [
              "tensor([0.5000], requires_grad=True)"
            ]
          },
          "metadata": {},
          "execution_count": 6
        }
      ]
    },
    {
      "cell_type": "markdown",
      "metadata": {
        "id": "loz5ja6Z09hB"
      },
      "source": [
        "...and do the same for the $y$-intercept parameter $b$:"
      ]
    },
    {
      "cell_type": "code",
      "metadata": {
        "id": "ofqXHEGL09hB",
        "outputId": "188392c3-0dd8-4b90-adb3-2730be5adbff",
        "colab": {
          "base_uri": "https://localhost:8080/"
        }
      },
      "source": [
        "b = torch.tensor([0.05]).requires_grad_()\n",
        "b"
      ],
      "execution_count": 7,
      "outputs": [
        {
          "output_type": "execute_result",
          "data": {
            "text/plain": [
              "tensor([0.0500], requires_grad=True)"
            ]
          },
          "metadata": {},
          "execution_count": 7
        }
      ]
    },
    {
      "cell_type": "code",
      "metadata": {
        "id": "BJ1-Rioe09hC"
      },
      "source": [
        "def regression(my_x, my_m, my_b):\n",
        "    return my_m*my_x + my_b"
      ],
      "execution_count": 8,
      "outputs": []
    },
    {
      "cell_type": "code",
      "metadata": {
        "id": "UbCaQY1R09hC"
      },
      "source": [
        "def regression_plot(my_x, my_y, my_m, my_b):\n",
        "\n",
        "    fig, ax = plt.subplots()\n",
        "\n",
        "    ax.scatter(my_x, my_y)\n",
        "\n",
        "    x_min, x_max = ax.get_xlim()\n",
        "    y_min = regression(x_min, my_m, my_b).detach().item()\n",
        "    y_max = regression(x_max, my_m, my_b).detach().item()\n",
        "\n",
        "    ax.set_xlim([x_min, x_max])\n",
        "    _ = ax.plot([x_min, x_max], [y_min, y_max])"
      ],
      "execution_count": 9,
      "outputs": []
    },
    {
      "cell_type": "code",
      "metadata": {
        "id": "9auSbE4A09hC",
        "outputId": "2c1887d7-7568-40c1-91e0-1bb7218add96",
        "colab": {
          "base_uri": "https://localhost:8080/",
          "height": 430
        }
      },
      "source": [
        "regression_plot(x, y, m, b)"
      ],
      "execution_count": 10,
      "outputs": [
        {
          "output_type": "display_data",
          "data": {
            "text/plain": [
              "<Figure size 640x480 with 1 Axes>"
            ],
            "image/png": "[encoded data removed]"
          },
          "metadata": {}
        }
      ]
    },
    {
      "cell_type": "markdown",
      "metadata": {
        "id": "tALo3vf_09hC"
      },
      "source": [
        "**Return to slides here if following *Calculus I* class.**"
      ]
    },
    {
      "cell_type": "markdown",
      "metadata": {
        "id": "Ws53tPJF09hC"
      },
      "source": [
        "### Machine Learning\n",
        "In four easy steps :)"
      ]
    },
    {
      "cell_type": "markdown",
      "metadata": {
        "id": "3egph_ZU09hC"
      },
      "source": [
        "**Step 1**: Forward pass"
      ]
    },
    {
      "cell_type": "code",
      "metadata": {
        "id": "901_nf3f09hC",
        "outputId": "c0dbe239-eb9c-4230-9d1e-0c9e4af7f3f7",
        "colab": {
          "base_uri": "https://localhost:8080/"
        }
      },
      "source": [
        "yhat = regression(x, m, b)\n",
        "yhat"
      ],
      "execution_count": 11,
      "outputs": [
        {
          "output_type": "execute_result",
          "data": {
            "text/plain": [
              "tensor([0.0500, 0.5500, 1.0500, 1.5500, 2.0500, 2.5500, 3.0500, 3.5500, 4.5500,\n",
              "        5.0500, 7.0500], grad_fn=<AddBackward0>)"
            ]
          },
          "metadata": {},
          "execution_count": 11
        }
      ]
    },
    {
      "cell_type": "markdown",
      "metadata": {
        "id": "AAV5AN8Y09hD"
      },
      "source": [
        "**Step 2**: Compare $\\hat{y}$ with true $y$ to calculate cost $C$"
      ]
    },
    {
      "cell_type": "markdown",
      "metadata": {
        "id": "VIUzVfyIiFZ4"
      },
      "source": [
        "There is a PyTorch `MSELoss` method, but let's define it outselves to see how it works. MSE cost is defined by: $$C = \\frac{1}{n} \\sum_{i=1}^n (\\hat{y_i}-y_i)^2 $$"
      ]
    },
    {
      "cell_type": "code",
      "metadata": {
        "id": "sRAbg8lQ09hD"
      },
      "source": [
        "def mse(my_yhat, my_y):\n",
        "    sigma = torch.sum((my_yhat - my_y)**2)\n",
        "    return sigma/len(my_y)"
      ],
      "execution_count": 12,
      "outputs": []
    },
    {
      "cell_type": "code",
      "metadata": {
        "id": "V6I7Cmi409hD",
        "outputId": "8361bd95-1820-4f6e-b655-546b212e3483",
        "colab": {
          "base_uri": "https://localhost:8080/"
        }
      },
      "source": [
        "C = mse(yhat, y)\n",
        "C"
      ],
      "execution_count": 13,
      "outputs": [
        {
          "output_type": "execute_result",
          "data": {
            "text/plain": [
              "tensor(56.4958, grad_fn=<DivBackward0>)"
            ]
          },
          "metadata": {},
          "execution_count": 13
        }
      ]
    },
    {
      "cell_type": "markdown",
      "metadata": {
        "id": "avZjfPNQ09hD"
      },
      "source": [
        "**Step 3**: Use autodiff to calculate gradient of $C$ w.r.t. parameters"
      ]
    },
    {
      "cell_type": "code",
      "metadata": {
        "id": "GmouXexF09hE"
      },
      "source": [
        "C.backward()"
      ],
      "execution_count": 14,
      "outputs": []
    },
    {
      "cell_type": "code",
      "metadata": {
        "id": "cOYw5LOV09hE",
        "outputId": "16ac6e95-adc0-4095-8698-a3de85f22750",
        "colab": {
          "base_uri": "https://localhost:8080/"
        }
      },
      "source": [
        "m.grad"
      ],
      "execution_count": 15,
      "outputs": [
        {
          "output_type": "execute_result",
          "data": {
            "text/plain": [
              "tensor([98.3104])"
            ]
          },
          "metadata": {},
          "execution_count": 15
        }
      ]
    },
    {
      "cell_type": "code",
      "metadata": {
        "id": "vyvLxxYy09hE",
        "outputId": "a5023d68-b1e9-49b9-edab-916e8a28a602",
        "colab": {
          "base_uri": "https://localhost:8080/"
        }
      },
      "source": [
        "b.grad"
      ],
      "execution_count": 16,
      "outputs": [
        {
          "output_type": "execute_result",
          "data": {
            "text/plain": [
              "tensor([8.9520])"
            ]
          },
          "metadata": {},
          "execution_count": 16
        }
      ]
    },
    {
      "cell_type": "markdown",
      "metadata": {
        "id": "iWn_fH0t09hE"
      },
      "source": [
        "**Step 4**: Gradient descent"
      ]
    },
    {
      "cell_type": "code",
      "metadata": {
        "id": "-H18htep09hE"
      },
      "source": [
        "optimizer = torch.optim.SGD([m, b], lr=0.01)"
      ],
      "execution_count": 17,
      "outputs": []
    },
    {
      "cell_type": "code",
      "metadata": {
        "id": "l6Ca-YTp09hE"
      },
      "source": [
        "optimizer.step()"
      ],
      "execution_count": 18,
      "outputs": []
    },
    {
      "cell_type": "markdown",
      "metadata": {
        "id": "bfMF3B2709hE"
      },
      "source": [
        "Confirm parameters have been adjusted sensibly:"
      ]
    },
    {
      "cell_type": "code",
      "metadata": {
        "id": "GOr74kGm09hF",
        "outputId": "fd87874c-616a-4ed5-ec2d-039767e828ee",
        "colab": {
          "base_uri": "https://localhost:8080/"
        }
      },
      "source": [
        "m"
      ],
      "execution_count": 19,
      "outputs": [
        {
          "output_type": "execute_result",
          "data": {
            "text/plain": [
              "tensor([-0.4831], requires_grad=True)"
            ]
          },
          "metadata": {},
          "execution_count": 19
        }
      ]
    },
    {
      "cell_type": "code",
      "metadata": {
        "id": "Ht7U_2_G09hF",
        "outputId": "d7bf854c-d8cd-4796-d739-c155443f465a",
        "colab": {
          "base_uri": "https://localhost:8080/"
        }
      },
      "source": [
        "b"
      ],
      "execution_count": 20,
      "outputs": [
        {
          "output_type": "execute_result",
          "data": {
            "text/plain": [
              "tensor([-0.0395], requires_grad=True)"
            ]
          },
          "metadata": {},
          "execution_count": 20
        }
      ]
    },
    {
      "cell_type": "code",
      "metadata": {
        "id": "qQIUjHPY09hF",
        "outputId": "1c75173f-4940-4417-a4be-22837a57054d",
        "colab": {
          "base_uri": "https://localhost:8080/",
          "height": 430
        }
      },
      "source": [
        "regression_plot(x, y, m, b)"
      ],
      "execution_count": 21,
      "outputs": [
        {
          "output_type": "display_data",
          "data": {
            "text/plain": [
              "<Figure size 640x480 with 1 Axes>"
            ],
            "image/png": "[encoded data removed]"
          },
          "metadata": {}
        }
      ]
    },
    {
      "cell_type": "markdown",
      "metadata": {
        "id": "mwo0UsoA09hF"
      },
      "source": [
        "We can repeat steps 1 and 2 to confirm cost has decreased:"
      ]
    },
    {
      "cell_type": "code",
      "metadata": {
        "id": "76e1mVu209hF",
        "outputId": "cc75684a-4b10-49e9-8c66-15d788868a8b",
        "colab": {
          "base_uri": "https://localhost:8080/"
        }
      },
      "source": [
        "C = mse(regression(x, m, b), y)\n",
        "C"
      ],
      "execution_count": 22,
      "outputs": [
        {
          "output_type": "execute_result",
          "data": {
            "text/plain": [
              "tensor(5.4544, grad_fn=<DivBackward0>)"
            ]
          },
          "metadata": {},
          "execution_count": 22
        }
      ]
    },
    {
      "cell_type": "markdown",
      "metadata": {
        "id": "r6dAqwRw09hF"
      },
      "source": [
        "Put the 4 steps in a loop to iteratively minimize cost toward zero:"
      ]
    },
    {
      "cell_type": "code",
      "metadata": {
        "id": "wejSZX2q09hF",
        "outputId": "6f4b6898-73c8-4a74-ea4c-fe304e0a777d",
        "colab": {
          "base_uri": "https://localhost:8080/"
        }
      },
      "source": [
        "epochs = 1000\n",
        "for epoch in range(epochs):\n",
        "\n",
        "    optimizer.zero_grad() # Reset gradients to zero; else they accumulate\n",
        "\n",
        "    yhat = regression(x, m, b) # Step 1\n",
        "    C = mse(yhat, y) # Step 2\n",
        "\n",
        "    C.backward() # Step 3\n",
        "    optimizer.step() # Step 4\n",
        "\n",
        "    print('Epoch {}, cost {}, m grad {}, b grad {}'.format(epoch, '%.3g' % C.item(), '%.3g' % m.grad.item(), '%.3g' % b.grad.item()))"
      ],
      "execution_count": 28,
      "outputs": [
        {
          "output_type": "stream",
          "name": "stdout",
          "text": [
            "Epoch 0, cost 0.0179, m grad 1.01e-06, b grad -1.19e-05\n",
            "Epoch 1, cost 0.0179, m grad 1.01e-06, b grad -1.19e-05\n",
            "Epoch 2, cost 0.0179, m grad 1.01e-06, b grad -1.19e-05\n",
            "Epoch 3, cost 0.0179, m grad 1.01e-06, b grad -1.19e-05\n",
            "Epoch 4, cost 0.0179, m grad 1.01e-06, b grad -1.19e-05\n",
            "Epoch 5, cost 0.0179, m grad 1.01e-06, b grad -1.19e-05\n",
            "Epoch 6, cost 0.0179, m grad 1.01e-06, b grad -1.19e-05\n",
            "Epoch 7, cost 0.0179, m grad 1.01e-06, b grad -1.19e-05\n",
            "Epoch 8, cost 0.0179, m grad 1.01e-06, b grad -1.19e-05\n",
            "Epoch 9, cost 0.0179, m grad 1.01e-06, b grad -1.19e-05\n",
            "Epoch 10, cost 0.0179, m grad 1.01e-06, b grad -1.19e-05\n",
            "Epoch 11, cost 0.0179, m grad 1.01e-06, b grad -1.19e-05\n",
            "Epoch 12, cost 0.0179, m grad 1.01e-06, b grad -1.19e-05\n",
            "Epoch 13, cost 0.0179, m grad 1.01e-06, b grad -1.19e-05\n",
            "Epoch 14, cost 0.0179, m grad 1.01e-06, b grad -1.19e-05\n",
            "Epoch 15, cost 0.0179, m grad 1.01e-06, b grad -1.19e-05\n",
            "Epoch 16, cost 0.0179, m grad 1.01e-06, b grad -1.19e-05\n",
            "Epoch 17, cost 0.0179, m grad 1.01e-06, b grad -1.19e-05\n",
            "Epoch 18, cost 0.0179, m grad 1.01e-06, b grad -1.19e-05\n",
            "Epoch 19, cost 0.0179, m grad 1.01e-06, b grad -1.19e-05\n",
            "Epoch 20, cost 0.0179, m grad 1.01e-06, b grad -1.19e-05\n",
            "Epoch 21, cost 0.0179, m grad 1.01e-06, b grad -1.19e-05\n",
            "Epoch 22, cost 0.0179, m grad 1.01e-06, b grad -1.19e-05\n",
            "Epoch 23, cost 0.0179, m grad 1.01e-06, b grad -1.19e-05\n",
            "Epoch 24, cost 0.0179, m grad 1.01e-06, b grad -1.19e-05\n",
            "Epoch 25, cost 0.0179, m grad 1.01e-06, b grad -1.19e-05\n",
            "Epoch 26, cost 0.0179, m grad 1.01e-06, b grad -1.19e-05\n",
            "Epoch 27, cost 0.0179, m grad 1.01e-06, b grad -1.19e-05\n",
            "Epoch 28, cost 0.0179, m grad 1.01e-06, b grad -1.19e-05\n",
            "Epoch 29, cost 0.0179, m grad 1.01e-06, b grad -1.19e-05\n",
            "Epoch 30, cost 0.0179, m grad 1.01e-06, b grad -1.19e-05\n",
            "Epoch 31, cost 0.0179, m grad 1.01e-06, b grad -1.19e-05\n",
            "Epoch 32, cost 0.0179, m grad 1.01e-06, b grad -1.19e-05\n",
            "Epoch 33, cost 0.0179, m grad 1.01e-06, b grad -1.19e-05\n",
            "Epoch 34, cost 0.0179, m grad 1.01e-06, b grad -1.19e-05\n",
            "Epoch 35, cost 0.0179, m grad 1.01e-06, b grad -1.19e-05\n",
            "Epoch 36, cost 0.0179, m grad 1.01e-06, b grad -1.19e-05\n",
            "Epoch 37, cost 0.0179, m grad 1.01e-06, b grad -1.19e-05\n",
            "Epoch 38, cost 0.0179, m grad 1.01e-06, b grad -1.19e-05\n",
            "Epoch 39, cost 0.0179, m grad 1.01e-06, b grad -1.19e-05\n",
            "Epoch 40, cost 0.0179, m grad 1.01e-06, b grad -1.19e-05\n",
            "Epoch 41, cost 0.0179, m grad 1.01e-06, b grad -1.19e-05\n",
            "Epoch 42, cost 0.0179, m grad 1.01e-06, b grad -1.19e-05\n",
            "Epoch 43, cost 0.0179, m grad 1.01e-06, b grad -1.19e-05\n",
            "Epoch 44, cost 0.0179, m grad 1.01e-06, b grad -1.19e-05\n",
            "Epoch 45, cost 0.0179, m grad 1.01e-06, b grad -1.19e-05\n",
            "Epoch 46, cost 0.0179, m grad 1.01e-06, b grad -1.19e-05\n",
            "Epoch 47, cost 0.0179, m grad 1.01e-06, b grad -1.19e-05\n",
            "Epoch 48, cost 0.0179, m grad 1.01e-06, b grad -1.19e-05\n",
            "Epoch 49, cost 0.0179, m grad 1.01e-06, b grad -1.19e-05\n",
            "Epoch 50, cost 0.0179, m grad 1.01e-06, b grad -1.19e-05\n",
            "Epoch 51, cost 0.0179, m grad 1.01e-06, b grad -1.19e-05\n",
            "Epoch 52, cost 0.0179, m grad 1.01e-06, b grad -1.19e-05\n",
            "Epoch 53, cost 0.0179, m grad 1.01e-06, b grad -1.19e-05\n",
            "Epoch 54, cost 0.0179, m grad 1.01e-06, b grad -1.19e-05\n",
            "Epoch 55, cost 0.0179, m grad 1.01e-06, b grad -1.19e-05\n",
            "Epoch 56, cost 0.0179, m grad 1.01e-06, b grad -1.19e-05\n",
            "Epoch 57, cost 0.0179, m grad 1.01e-06, b grad -1.19e-05\n",
            "Epoch 58, cost 0.0179, m grad 1.01e-06, b grad -1.19e-05\n",
            "Epoch 59, cost 0.0179, m grad 1.01e-06, b grad -1.19e-05\n",
            "Epoch 60, cost 0.0179, m grad 1.01e-06, b grad -1.19e-05\n",
            "Epoch 61, cost 0.0179, m grad 1.01e-06, b grad -1.19e-05\n",
            "Epoch 62, cost 0.0179, m grad 1.01e-06, b grad -1.19e-05\n",
            "Epoch 63, cost 0.0179, m grad 1.01e-06, b grad -1.19e-05\n",
            "Epoch 64, cost 0.0179, m grad 1.01e-06, b grad -1.19e-05\n",
            "Epoch 65, cost 0.0179, m grad 1.01e-06, b grad -1.19e-05\n",
            "Epoch 66, cost 0.0179, m grad 1.01e-06, b grad -1.19e-05\n",
            "Epoch 67, cost 0.0179, m grad 1.01e-06, b grad -1.19e-05\n",
            "Epoch 68, cost 0.0179, m grad 1.01e-06, b grad -1.19e-05\n",
            "Epoch 69, cost 0.0179, m grad 1.01e-06, b grad -1.19e-05\n",
            "Epoch 70, cost 0.0179, m grad 1.01e-06, b grad -1.19e-05\n",
            "Epoch 71, cost 0.0179, m grad 1.01e-06, b grad -1.19e-05\n",
            "Epoch 72, cost 0.0179, m grad 1.01e-06, b grad -1.19e-05\n",
            "Epoch 73, cost 0.0179, m grad 1.01e-06, b grad -1.19e-05\n",
            "Epoch 74, cost 0.0179, m grad 1.01e-06, b grad -1.19e-05\n",
            "Epoch 75, cost 0.0179, m grad 1.01e-06, b grad -1.19e-05\n",
            "Epoch 76, cost 0.0179, m grad 1.01e-06, b grad -1.19e-05\n",
            "Epoch 77, cost 0.0179, m grad 1.01e-06, b grad -1.19e-05\n",
            "Epoch 78, cost 0.0179, m grad 1.01e-06, b grad -1.19e-05\n",
            "Epoch 79, cost 0.0179, m grad 1.01e-06, b grad -1.19e-05\n",
            "Epoch 80, cost 0.0179, m grad 1.01e-06, b grad -1.19e-05\n",
            "Epoch 81, cost 0.0179, m grad 1.01e-06, b grad -1.19e-05\n",
            "Epoch 82, cost 0.0179, m grad 1.01e-06, b grad -1.19e-05\n",
            "Epoch 83, cost 0.0179, m grad 1.01e-06, b grad -1.19e-05\n",
            "Epoch 84, cost 0.0179, m grad 1.01e-06, b grad -1.19e-05\n",
            "Epoch 85, cost 0.0179, m grad 1.01e-06, b grad -1.19e-05\n",
            "Epoch 86, cost 0.0179, m grad 1.01e-06, b grad -1.19e-05\n",
            "Epoch 87, cost 0.0179, m grad 1.01e-06, b grad -1.19e-05\n",
            "Epoch 88, cost 0.0179, m grad 1.01e-06, b grad -1.19e-05\n",
            "Epoch 89, cost 0.0179, m grad 1.01e-06, b grad -1.19e-05\n",
            "Epoch 90, cost 0.0179, m grad 1.01e-06, b grad -1.19e-05\n",
            "Epoch 91, cost 0.0179, m grad 1.01e-06, b grad -1.19e-05\n",
            "Epoch 92, cost 0.0179, m grad 1.01e-06, b grad -1.19e-05\n",
            "Epoch 93, cost 0.0179, m grad 1.01e-06, b grad -1.19e-05\n",
            "Epoch 94, cost 0.0179, m grad 1.01e-06, b grad -1.19e-05\n",
            "Epoch 95, cost 0.0179, m grad 1.01e-06, b grad -1.19e-05\n",
            "Epoch 96, cost 0.0179, m grad 1.01e-06, b grad -1.19e-05\n",
            "Epoch 97, cost 0.0179, m grad 1.01e-06, b grad -1.19e-05\n",
            "Epoch 98, cost 0.0179, m grad 1.01e-06, b grad -1.19e-05\n",
            "Epoch 99, cost 0.0179, m grad 1.01e-06, b grad -1.19e-05\n",
            "Epoch 100, cost 0.0179, m grad 1.01e-06, b grad -1.19e-05\n",
            "Epoch 101, cost 0.0179, m grad 1.01e-06, b grad -1.19e-05\n",
            "Epoch 102, cost 0.0179, m grad 1.01e-06, b grad -1.19e-05\n",
            "Epoch 103, cost 0.0179, m grad 1.01e-06, b grad -1.19e-05\n",
            "Epoch 104, cost 0.0179, m grad 1.01e-06, b grad -1.19e-05\n",
            "Epoch 105, cost 0.0179, m grad 1.01e-06, b grad -1.19e-05\n",
            "Epoch 106, cost 0.0179, m grad 1.01e-06, b grad -1.19e-05\n",
            "Epoch 107, cost 0.0179, m grad 1.01e-06, b grad -1.19e-05\n",
            "Epoch 108, cost 0.0179, m grad 1.01e-06, b grad -1.19e-05\n",
            "Epoch 109, cost 0.0179, m grad 1.01e-06, b grad -1.19e-05\n",
            "Epoch 110, cost 0.0179, m grad 1.01e-06, b grad -1.19e-05\n",
            "Epoch 111, cost 0.0179, m grad 1.01e-06, b grad -1.19e-05\n",
            "Epoch 112, cost 0.0179, m grad 1.01e-06, b grad -1.19e-05\n",
            "Epoch 113, cost 0.0179, m grad 1.01e-06, b grad -1.19e-05\n",
            "Epoch 114, cost 0.0179, m grad 1.01e-06, b grad -1.19e-05\n",
            "Epoch 115, cost 0.0179, m grad 1.01e-06, b grad -1.19e-05\n",
            "Epoch 116, cost 0.0179, m grad 1.01e-06, b grad -1.19e-05\n",
            "Epoch 117, cost 0.0179, m grad 1.01e-06, b grad -1.19e-05\n",
            "Epoch 118, cost 0.0179, m grad 1.01e-06, b grad -1.19e-05\n",
            "Epoch 119, cost 0.0179, m grad 1.01e-06, b grad -1.19e-05\n",
            "Epoch 120, cost 0.0179, m grad 1.01e-06, b grad -1.19e-05\n",
            "Epoch 121, cost 0.0179, m grad 1.01e-06, b grad -1.19e-05\n",
            "Epoch 122, cost 0.0179, m grad 1.01e-06, b grad -1.19e-05\n",
            "Epoch 123, cost 0.0179, m grad 1.01e-06, b grad -1.19e-05\n",
            "Epoch 124, cost 0.0179, m grad 1.01e-06, b grad -1.19e-05\n",
            "Epoch 125, cost 0.0179, m grad 1.01e-06, b grad -1.19e-05\n",
            "Epoch 126, cost 0.0179, m grad 1.01e-06, b grad -1.19e-05\n",
            "Epoch 127, cost 0.0179, m grad 1.01e-06, b grad -1.19e-05\n",
            "Epoch 128, cost 0.0179, m grad 1.01e-06, b grad -1.19e-05\n",
            "Epoch 129, cost 0.0179, m grad 1.01e-06, b grad -1.19e-05\n",
            "Epoch 130, cost 0.0179, m grad 1.01e-06, b grad -1.19e-05\n",
            "Epoch 131, cost 0.0179, m grad 1.01e-06, b grad -1.19e-05\n",
            "Epoch 132, cost 0.0179, m grad 1.01e-06, b grad -1.19e-05\n",
            "Epoch 133, cost 0.0179, m grad 1.01e-06, b grad -1.19e-05\n",
            "Epoch 134, cost 0.0179, m grad 1.01e-06, b grad -1.19e-05\n",
            "Epoch 135, cost 0.0179, m grad 1.01e-06, b grad -1.19e-05\n",
            "Epoch 136, cost 0.0179, m grad 1.01e-06, b grad -1.19e-05\n",
            "Epoch 137, cost 0.0179, m grad 1.01e-06, b grad -1.19e-05\n",
            "Epoch 138, cost 0.0179, m grad 1.01e-06, b grad -1.19e-05\n",
            "Epoch 139, cost 0.0179, m grad 1.01e-06, b grad -1.19e-05\n",
            "Epoch 140, cost 0.0179, m grad 1.01e-06, b grad -1.19e-05\n",
            "Epoch 141, cost 0.0179, m grad 1.01e-06, b grad -1.19e-05\n",
            "Epoch 142, cost 0.0179, m grad 1.01e-06, b grad -1.19e-05\n",
            "Epoch 143, cost 0.0179, m grad 1.01e-06, b grad -1.19e-05\n",
            "Epoch 144, cost 0.0179, m grad 1.01e-06, b grad -1.19e-05\n",
            "Epoch 145, cost 0.0179, m grad 1.01e-06, b grad -1.19e-05\n",
            "Epoch 146, cost 0.0179, m grad 1.01e-06, b grad -1.19e-05\n",
            "Epoch 147, cost 0.0179, m grad 1.01e-06, b grad -1.19e-05\n",
            "Epoch 148, cost 0.0179, m grad 1.01e-06, b grad -1.19e-05\n",
            "Epoch 149, cost 0.0179, m grad 1.01e-06, b grad -1.19e-05\n",
            "Epoch 150, cost 0.0179, m grad 1.01e-06, b grad -1.19e-05\n",
            "Epoch 151, cost 0.0179, m grad 1.01e-06, b grad -1.19e-05\n",
            "Epoch 152, cost 0.0179, m grad 1.01e-06, b grad -1.19e-05\n",
            "Epoch 153, cost 0.0179, m grad 1.01e-06, b grad -1.19e-05\n",
            "Epoch 154, cost 0.0179, m grad 1.01e-06, b grad -1.19e-05\n",
            "Epoch 155, cost 0.0179, m grad 1.01e-06, b grad -1.19e-05\n",
            "Epoch 156, cost 0.0179, m grad 1.01e-06, b grad -1.19e-05\n",
            "Epoch 157, cost 0.0179, m grad 1.01e-06, b grad -1.19e-05\n",
            "Epoch 158, cost 0.0179, m grad 1.01e-06, b grad -1.19e-05\n",
            "Epoch 159, cost 0.0179, m grad 1.01e-06, b grad -1.19e-05\n",
            "Epoch 160, cost 0.0179, m grad 1.01e-06, b grad -1.19e-05\n",
            "Epoch 161, cost 0.0179, m grad 1.01e-06, b grad -1.19e-05\n",
            "Epoch 162, cost 0.0179, m grad 1.01e-06, b grad -1.19e-05\n",
            "Epoch 163, cost 0.0179, m grad 1.01e-06, b grad -1.19e-05\n",
            "Epoch 164, cost 0.0179, m grad 1.01e-06, b grad -1.19e-05\n",
            "Epoch 165, cost 0.0179, m grad 1.01e-06, b grad -1.19e-05\n",
            "Epoch 166, cost 0.0179, m grad 1.01e-06, b grad -1.19e-05\n",
            "Epoch 167, cost 0.0179, m grad 1.01e-06, b grad -1.19e-05\n",
            "Epoch 168, cost 0.0179, m grad 1.01e-06, b grad -1.19e-05\n",
            "Epoch 169, cost 0.0179, m grad 1.01e-06, b grad -1.19e-05\n",
            "Epoch 170, cost 0.0179, m grad 1.01e-06, b grad -1.19e-05\n",
            "Epoch 171, cost 0.0179, m grad 1.01e-06, b grad -1.19e-05\n",
            "Epoch 172, cost 0.0179, m grad 1.01e-06, b grad -1.19e-05\n",
            "Epoch 173, cost 0.0179, m grad 1.01e-06, b grad -1.19e-05\n",
            "Epoch 174, cost 0.0179, m grad 1.01e-06, b grad -1.19e-05\n",
            "Epoch 175, cost 0.0179, m grad 1.01e-06, b grad -1.19e-05\n",
            "Epoch 176, cost 0.0179, m grad 1.01e-06, b grad -1.19e-05\n",
            "Epoch 177, cost 0.0179, m grad 1.01e-06, b grad -1.19e-05\n",
            "Epoch 178, cost 0.0179, m grad 1.01e-06, b grad -1.19e-05\n",
            "Epoch 179, cost 0.0179, m grad 1.01e-06, b grad -1.19e-05\n",
            "Epoch 180, cost 0.0179, m grad 1.01e-06, b grad -1.19e-05\n",
            "Epoch 181, cost 0.0179, m grad 1.01e-06, b grad -1.19e-05\n",
            "Epoch 182, cost 0.0179, m grad 1.01e-06, b grad -1.19e-05\n",
            "Epoch 183, cost 0.0179, m grad 1.01e-06, b grad -1.19e-05\n",
            "Epoch 184, cost 0.0179, m grad 1.01e-06, b grad -1.19e-05\n",
            "Epoch 185, cost 0.0179, m grad 1.01e-06, b grad -1.19e-05\n",
            "Epoch 186, cost 0.0179, m grad 1.01e-06, b grad -1.19e-05\n",
            "Epoch 187, cost 0.0179, m grad 1.01e-06, b grad -1.19e-05\n",
            "Epoch 188, cost 0.0179, m grad 1.01e-06, b grad -1.19e-05\n",
            "Epoch 189, cost 0.0179, m grad 1.01e-06, b grad -1.19e-05\n",
            "Epoch 190, cost 0.0179, m grad 1.01e-06, b grad -1.19e-05\n",
            "Epoch 191, cost 0.0179, m grad 1.01e-06, b grad -1.19e-05\n",
            "Epoch 192, cost 0.0179, m grad 1.01e-06, b grad -1.19e-05\n",
            "Epoch 193, cost 0.0179, m grad 1.01e-06, b grad -1.19e-05\n",
            "Epoch 194, cost 0.0179, m grad 1.01e-06, b grad -1.19e-05\n",
            "Epoch 195, cost 0.0179, m grad 1.01e-06, b grad -1.19e-05\n",
            "Epoch 196, cost 0.0179, m grad 1.01e-06, b grad -1.19e-05\n",
            "Epoch 197, cost 0.0179, m grad 1.01e-06, b grad -1.19e-05\n",
            "Epoch 198, cost 0.0179, m grad 1.01e-06, b grad -1.19e-05\n",
            "Epoch 199, cost 0.0179, m grad 1.01e-06, b grad -1.19e-05\n",
            "Epoch 200, cost 0.0179, m grad 1.01e-06, b grad -1.19e-05\n",
            "Epoch 201, cost 0.0179, m grad 1.01e-06, b grad -1.19e-05\n",
            "Epoch 202, cost 0.0179, m grad 1.01e-06, b grad -1.19e-05\n",
            "Epoch 203, cost 0.0179, m grad 1.01e-06, b grad -1.19e-05\n",
            "Epoch 204, cost 0.0179, m grad 1.01e-06, b grad -1.19e-05\n",
            "Epoch 205, cost 0.0179, m grad 1.01e-06, b grad -1.19e-05\n",
            "Epoch 206, cost 0.0179, m grad 1.01e-06, b grad -1.19e-05\n",
            "Epoch 207, cost 0.0179, m grad 1.01e-06, b grad -1.19e-05\n",
            "Epoch 208, cost 0.0179, m grad 1.01e-06, b grad -1.19e-05\n",
            "Epoch 209, cost 0.0179, m grad 1.01e-06, b grad -1.19e-05\n",
            "Epoch 210, cost 0.0179, m grad 1.01e-06, b grad -1.19e-05\n",
            "Epoch 211, cost 0.0179, m grad 1.01e-06, b grad -1.19e-05\n",
            "Epoch 212, cost 0.0179, m grad 1.01e-06, b grad -1.19e-05\n",
            "Epoch 213, cost 0.0179, m grad 1.01e-06, b grad -1.19e-05\n",
            "Epoch 214, cost 0.0179, m grad 1.01e-06, b grad -1.19e-05\n",
            "Epoch 215, cost 0.0179, m grad 1.01e-06, b grad -1.19e-05\n",
            "Epoch 216, cost 0.0179, m grad 1.01e-06, b grad -1.19e-05\n",
            "Epoch 217, cost 0.0179, m grad 1.01e-06, b grad -1.19e-05\n",
            "Epoch 218, cost 0.0179, m grad 1.01e-06, b grad -1.19e-05\n",
            "Epoch 219, cost 0.0179, m grad 1.01e-06, b grad -1.19e-05\n",
            "Epoch 220, cost 0.0179, m grad 1.01e-06, b grad -1.19e-05\n",
            "Epoch 221, cost 0.0179, m grad 1.01e-06, b grad -1.19e-05\n",
            "Epoch 222, cost 0.0179, m grad 1.01e-06, b grad -1.19e-05\n",
            "Epoch 223, cost 0.0179, m grad 1.01e-06, b grad -1.19e-05\n",
            "Epoch 224, cost 0.0179, m grad 1.01e-06, b grad -1.19e-05\n",
            "Epoch 225, cost 0.0179, m grad 1.01e-06, b grad -1.19e-05\n",
            "Epoch 226, cost 0.0179, m grad 1.01e-06, b grad -1.19e-05\n",
            "Epoch 227, cost 0.0179, m grad 1.01e-06, b grad -1.19e-05\n",
            "Epoch 228, cost 0.0179, m grad 1.01e-06, b grad -1.19e-05\n",
            "Epoch 229, cost 0.0179, m grad 1.01e-06, b grad -1.19e-05\n",
            "Epoch 230, cost 0.0179, m grad 1.01e-06, b grad -1.19e-05\n",
            "Epoch 231, cost 0.0179, m grad 1.01e-06, b grad -1.19e-05\n",
            "Epoch 232, cost 0.0179, m grad 1.01e-06, b grad -1.19e-05\n",
            "Epoch 233, cost 0.0179, m grad 1.01e-06, b grad -1.19e-05\n",
            "Epoch 234, cost 0.0179, m grad 1.01e-06, b grad -1.19e-05\n",
            "Epoch 235, cost 0.0179, m grad 1.01e-06, b grad -1.19e-05\n",
            "Epoch 236, cost 0.0179, m grad 1.01e-06, b grad -1.19e-05\n",
            "Epoch 237, cost 0.0179, m grad 1.01e-06, b grad -1.19e-05\n",
            "Epoch 238, cost 0.0179, m grad 1.01e-06, b grad -1.19e-05\n",
            "Epoch 239, cost 0.0179, m grad 1.01e-06, b grad -1.19e-05\n",
            "Epoch 240, cost 0.0179, m grad 1.01e-06, b grad -1.19e-05\n",
            "Epoch 241, cost 0.0179, m grad 1.01e-06, b grad -1.19e-05\n",
            "Epoch 242, cost 0.0179, m grad 1.01e-06, b grad -1.19e-05\n",
            "Epoch 243, cost 0.0179, m grad 1.01e-06, b grad -1.19e-05\n",
            "Epoch 244, cost 0.0179, m grad 1.01e-06, b grad -1.19e-05\n",
            "Epoch 245, cost 0.0179, m grad 1.01e-06, b grad -1.19e-05\n",
            "Epoch 246, cost 0.0179, m grad 1.01e-06, b grad -1.19e-05\n",
            "Epoch 247, cost 0.0179, m grad 1.01e-06, b grad -1.19e-05\n",
            "Epoch 248, cost 0.0179, m grad 1.01e-06, b grad -1.19e-05\n",
            "Epoch 249, cost 0.0179, m grad 1.01e-06, b grad -1.19e-05\n",
            "Epoch 250, cost 0.0179, m grad 1.01e-06, b grad -1.19e-05\n",
            "Epoch 251, cost 0.0179, m grad 1.01e-06, b grad -1.19e-05\n",
            "Epoch 252, cost 0.0179, m grad 1.01e-06, b grad -1.19e-05\n",
            "Epoch 253, cost 0.0179, m grad 1.01e-06, b grad -1.19e-05\n",
            "Epoch 254, cost 0.0179, m grad 1.01e-06, b grad -1.19e-05\n",
            "Epoch 255, cost 0.0179, m grad 1.01e-06, b grad -1.19e-05\n",
            "Epoch 256, cost 0.0179, m grad 1.01e-06, b grad -1.19e-05\n",
            "Epoch 257, cost 0.0179, m grad 1.01e-06, b grad -1.19e-05\n",
            "Epoch 258, cost 0.0179, m grad 1.01e-06, b grad -1.19e-05\n",
            "Epoch 259, cost 0.0179, m grad 1.01e-06, b grad -1.19e-05\n",
            "Epoch 260, cost 0.0179, m grad 1.01e-06, b grad -1.19e-05\n",
            "Epoch 261, cost 0.0179, m grad 1.01e-06, b grad -1.19e-05\n",
            "Epoch 262, cost 0.0179, m grad 1.01e-06, b grad -1.19e-05\n",
            "Epoch 263, cost 0.0179, m grad 1.01e-06, b grad -1.19e-05\n",
            "Epoch 264, cost 0.0179, m grad 1.01e-06, b grad -1.19e-05\n",
            "Epoch 265, cost 0.0179, m grad 1.01e-06, b grad -1.19e-05\n",
            "Epoch 266, cost 0.0179, m grad 1.01e-06, b grad -1.19e-05\n",
            "Epoch 267, cost 0.0179, m grad 1.01e-06, b grad -1.19e-05\n",
            "Epoch 268, cost 0.0179, m grad 1.01e-06, b grad -1.19e-05\n",
            "Epoch 269, cost 0.0179, m grad 1.01e-06, b grad -1.19e-05\n",
            "Epoch 270, cost 0.0179, m grad 1.01e-06, b grad -1.19e-05\n",
            "Epoch 271, cost 0.0179, m grad 1.01e-06, b grad -1.19e-05\n",
            "Epoch 272, cost 0.0179, m grad 1.01e-06, b grad -1.19e-05\n",
            "Epoch 273, cost 0.0179, m grad 1.01e-06, b grad -1.19e-05\n",
            "Epoch 274, cost 0.0179, m grad 1.01e-06, b grad -1.19e-05\n",
            "Epoch 275, cost 0.0179, m grad 1.01e-06, b grad -1.19e-05\n",
            "Epoch 276, cost 0.0179, m grad 1.01e-06, b grad -1.19e-05\n",
            "Epoch 277, cost 0.0179, m grad 1.01e-06, b grad -1.19e-05\n",
            "Epoch 278, cost 0.0179, m grad 1.01e-06, b grad -1.19e-05\n",
            "Epoch 279, cost 0.0179, m grad 1.01e-06, b grad -1.19e-05\n",
            "Epoch 280, cost 0.0179, m grad 1.01e-06, b grad -1.19e-05\n",
            "Epoch 281, cost 0.0179, m grad 1.01e-06, b grad -1.19e-05\n",
            "Epoch 282, cost 0.0179, m grad 1.01e-06, b grad -1.19e-05\n",
            "Epoch 283, cost 0.0179, m grad 1.01e-06, b grad -1.19e-05\n",
            "Epoch 284, cost 0.0179, m grad 1.01e-06, b grad -1.19e-05\n",
            "Epoch 285, cost 0.0179, m grad 1.01e-06, b grad -1.19e-05\n",
            "Epoch 286, cost 0.0179, m grad 1.01e-06, b grad -1.19e-05\n",
            "Epoch 287, cost 0.0179, m grad 1.01e-06, b grad -1.19e-05\n",
            "Epoch 288, cost 0.0179, m grad 1.01e-06, b grad -1.19e-05\n",
            "Epoch 289, cost 0.0179, m grad 1.01e-06, b grad -1.19e-05\n",
            "Epoch 290, cost 0.0179, m grad 1.01e-06, b grad -1.19e-05\n",
            "Epoch 291, cost 0.0179, m grad 1.01e-06, b grad -1.19e-05\n",
            "Epoch 292, cost 0.0179, m grad 1.01e-06, b grad -1.19e-05\n",
            "Epoch 293, cost 0.0179, m grad 1.01e-06, b grad -1.19e-05\n",
            "Epoch 294, cost 0.0179, m grad 1.01e-06, b grad -1.19e-05\n",
            "Epoch 295, cost 0.0179, m grad 1.01e-06, b grad -1.19e-05\n",
            "Epoch 296, cost 0.0179, m grad 1.01e-06, b grad -1.19e-05\n",
            "Epoch 297, cost 0.0179, m grad 1.01e-06, b grad -1.19e-05\n",
            "Epoch 298, cost 0.0179, m grad 1.01e-06, b grad -1.19e-05\n",
            "Epoch 299, cost 0.0179, m grad 1.01e-06, b grad -1.19e-05\n",
            "Epoch 300, cost 0.0179, m grad 1.01e-06, b grad -1.19e-05\n",
            "Epoch 301, cost 0.0179, m grad 1.01e-06, b grad -1.19e-05\n",
            "Epoch 302, cost 0.0179, m grad 1.01e-06, b grad -1.19e-05\n",
            "Epoch 303, cost 0.0179, m grad 1.01e-06, b grad -1.19e-05\n",
            "Epoch 304, cost 0.0179, m grad 1.01e-06, b grad -1.19e-05\n",
            "Epoch 305, cost 0.0179, m grad 1.01e-06, b grad -1.19e-05\n",
            "Epoch 306, cost 0.0179, m grad 1.01e-06, b grad -1.19e-05\n",
            "Epoch 307, cost 0.0179, m grad 1.01e-06, b grad -1.19e-05\n",
            "Epoch 308, cost 0.0179, m grad 1.01e-06, b grad -1.19e-05\n",
            "Epoch 309, cost 0.0179, m grad 1.01e-06, b grad -1.19e-05\n",
            "Epoch 310, cost 0.0179, m grad 1.01e-06, b grad -1.19e-05\n",
            "Epoch 311, cost 0.0179, m grad 1.01e-06, b grad -1.19e-05\n",
            "Epoch 312, cost 0.0179, m grad 1.01e-06, b grad -1.19e-05\n",
            "Epoch 313, cost 0.0179, m grad 1.01e-06, b grad -1.19e-05\n",
            "Epoch 314, cost 0.0179, m grad 1.01e-06, b grad -1.19e-05\n",
            "Epoch 315, cost 0.0179, m grad 1.01e-06, b grad -1.19e-05\n",
            "Epoch 316, cost 0.0179, m grad 1.01e-06, b grad -1.19e-05\n",
            "Epoch 317, cost 0.0179, m grad 1.01e-06, b grad -1.19e-05\n",
            "Epoch 318, cost 0.0179, m grad 1.01e-06, b grad -1.19e-05\n",
            "Epoch 319, cost 0.0179, m grad 1.01e-06, b grad -1.19e-05\n",
            "Epoch 320, cost 0.0179, m grad 1.01e-06, b grad -1.19e-05\n",
            "Epoch 321, cost 0.0179, m grad 1.01e-06, b grad -1.19e-05\n",
            "Epoch 322, cost 0.0179, m grad 1.01e-06, b grad -1.19e-05\n",
            "Epoch 323, cost 0.0179, m grad 1.01e-06, b grad -1.19e-05\n",
            "Epoch 324, cost 0.0179, m grad 1.01e-06, b grad -1.19e-05\n",
            "Epoch 325, cost 0.0179, m grad 1.01e-06, b grad -1.19e-05\n",
            "Epoch 326, cost 0.0179, m grad 1.01e-06, b grad -1.19e-05\n",
            "Epoch 327, cost 0.0179, m grad 1.01e-06, b grad -1.19e-05\n",
            "Epoch 328, cost 0.0179, m grad 1.01e-06, b grad -1.19e-05\n",
            "Epoch 329, cost 0.0179, m grad 1.01e-06, b grad -1.19e-05\n",
            "Epoch 330, cost 0.0179, m grad 1.01e-06, b grad -1.19e-05\n",
            "Epoch 331, cost 0.0179, m grad 1.01e-06, b grad -1.19e-05\n",
            "Epoch 332, cost 0.0179, m grad 1.01e-06, b grad -1.19e-05\n",
            "Epoch 333, cost 0.0179, m grad 1.01e-06, b grad -1.19e-05\n",
            "Epoch 334, cost 0.0179, m grad 1.01e-06, b grad -1.19e-05\n",
            "Epoch 335, cost 0.0179, m grad 1.01e-06, b grad -1.19e-05\n",
            "Epoch 336, cost 0.0179, m grad 1.01e-06, b grad -1.19e-05\n",
            "Epoch 337, cost 0.0179, m grad 1.01e-06, b grad -1.19e-05\n",
            "Epoch 338, cost 0.0179, m grad 1.01e-06, b grad -1.19e-05\n",
            "Epoch 339, cost 0.0179, m grad 1.01e-06, b grad -1.19e-05\n",
            "Epoch 340, cost 0.0179, m grad 1.01e-06, b grad -1.19e-05\n",
            "Epoch 341, cost 0.0179, m grad 1.01e-06, b grad -1.19e-05\n",
            "Epoch 342, cost 0.0179, m grad 1.01e-06, b grad -1.19e-05\n",
            "Epoch 343, cost 0.0179, m grad 1.01e-06, b grad -1.19e-05\n",
            "Epoch 344, cost 0.0179, m grad 1.01e-06, b grad -1.19e-05\n",
            "Epoch 345, cost 0.0179, m grad 1.01e-06, b grad -1.19e-05\n",
            "Epoch 346, cost 0.0179, m grad 1.01e-06, b grad -1.19e-05\n",
            "Epoch 347, cost 0.0179, m grad 1.01e-06, b grad -1.19e-05\n",
            "Epoch 348, cost 0.0179, m grad 1.01e-06, b grad -1.19e-05\n",
            "Epoch 349, cost 0.0179, m grad 1.01e-06, b grad -1.19e-05\n",
            "Epoch 350, cost 0.0179, m grad 1.01e-06, b grad -1.19e-05\n",
            "Epoch 351, cost 0.0179, m grad 1.01e-06, b grad -1.19e-05\n",
            "Epoch 352, cost 0.0179, m grad 1.01e-06, b grad -1.19e-05\n",
            "Epoch 353, cost 0.0179, m grad 1.01e-06, b grad -1.19e-05\n",
            "Epoch 354, cost 0.0179, m grad 1.01e-06, b grad -1.19e-05\n",
            "Epoch 355, cost 0.0179, m grad 1.01e-06, b grad -1.19e-05\n",
            "Epoch 356, cost 0.0179, m grad 1.01e-06, b grad -1.19e-05\n",
            "Epoch 357, cost 0.0179, m grad 1.01e-06, b grad -1.19e-05\n",
            "Epoch 358, cost 0.0179, m grad 1.01e-06, b grad -1.19e-05\n",
            "Epoch 359, cost 0.0179, m grad 1.01e-06, b grad -1.19e-05\n",
            "Epoch 360, cost 0.0179, m grad 1.01e-06, b grad -1.19e-05\n",
            "Epoch 361, cost 0.0179, m grad 1.01e-06, b grad -1.19e-05\n",
            "Epoch 362, cost 0.0179, m grad 1.01e-06, b grad -1.19e-05\n",
            "Epoch 363, cost 0.0179, m grad 1.01e-06, b grad -1.19e-05\n",
            "Epoch 364, cost 0.0179, m grad 1.01e-06, b grad -1.19e-05\n",
            "Epoch 365, cost 0.0179, m grad 1.01e-06, b grad -1.19e-05\n",
            "Epoch 366, cost 0.0179, m grad 1.01e-06, b grad -1.19e-05\n",
            "Epoch 367, cost 0.0179, m grad 1.01e-06, b grad -1.19e-05\n",
            "Epoch 368, cost 0.0179, m grad 1.01e-06, b grad -1.19e-05\n",
            "Epoch 369, cost 0.0179, m grad 1.01e-06, b grad -1.19e-05\n",
            "Epoch 370, cost 0.0179, m grad 1.01e-06, b grad -1.19e-05\n",
            "Epoch 371, cost 0.0179, m grad 1.01e-06, b grad -1.19e-05\n",
            "Epoch 372, cost 0.0179, m grad 1.01e-06, b grad -1.19e-05\n",
            "Epoch 373, cost 0.0179, m grad 1.01e-06, b grad -1.19e-05\n",
            "Epoch 374, cost 0.0179, m grad 1.01e-06, b grad -1.19e-05\n",
            "Epoch 375, cost 0.0179, m grad 1.01e-06, b grad -1.19e-05\n",
            "Epoch 376, cost 0.0179, m grad 1.01e-06, b grad -1.19e-05\n",
            "Epoch 377, cost 0.0179, m grad 1.01e-06, b grad -1.19e-05\n",
            "Epoch 378, cost 0.0179, m grad 1.01e-06, b grad -1.19e-05\n",
            "Epoch 379, cost 0.0179, m grad 1.01e-06, b grad -1.19e-05\n",
            "Epoch 380, cost 0.0179, m grad 1.01e-06, b grad -1.19e-05\n",
            "Epoch 381, cost 0.0179, m grad 1.01e-06, b grad -1.19e-05\n",
            "Epoch 382, cost 0.0179, m grad 1.01e-06, b grad -1.19e-05\n",
            "Epoch 383, cost 0.0179, m grad 1.01e-06, b grad -1.19e-05\n",
            "Epoch 384, cost 0.0179, m grad 1.01e-06, b grad -1.19e-05\n",
            "Epoch 385, cost 0.0179, m grad 1.01e-06, b grad -1.19e-05\n",
            "Epoch 386, cost 0.0179, m grad 1.01e-06, b grad -1.19e-05\n",
            "Epoch 387, cost 0.0179, m grad 1.01e-06, b grad -1.19e-05\n",
            "Epoch 388, cost 0.0179, m grad 1.01e-06, b grad -1.19e-05\n",
            "Epoch 389, cost 0.0179, m grad 1.01e-06, b grad -1.19e-05\n",
            "Epoch 390, cost 0.0179, m grad 1.01e-06, b grad -1.19e-05\n",
            "Epoch 391, cost 0.0179, m grad 1.01e-06, b grad -1.19e-05\n",
            "Epoch 392, cost 0.0179, m grad 1.01e-06, b grad -1.19e-05\n",
            "Epoch 393, cost 0.0179, m grad 1.01e-06, b grad -1.19e-05\n",
            "Epoch 394, cost 0.0179, m grad 1.01e-06, b grad -1.19e-05\n",
            "Epoch 395, cost 0.0179, m grad 1.01e-06, b grad -1.19e-05\n",
            "Epoch 396, cost 0.0179, m grad 1.01e-06, b grad -1.19e-05\n",
            "Epoch 397, cost 0.0179, m grad 1.01e-06, b grad -1.19e-05\n",
            "Epoch 398, cost 0.0179, m grad 1.01e-06, b grad -1.19e-05\n",
            "Epoch 399, cost 0.0179, m grad 1.01e-06, b grad -1.19e-05\n",
            "Epoch 400, cost 0.0179, m grad 1.01e-06, b grad -1.19e-05\n",
            "Epoch 401, cost 0.0179, m grad 1.01e-06, b grad -1.19e-05\n",
            "Epoch 402, cost 0.0179, m grad 1.01e-06, b grad -1.19e-05\n",
            "Epoch 403, cost 0.0179, m grad 1.01e-06, b grad -1.19e-05\n",
            "Epoch 404, cost 0.0179, m grad 1.01e-06, b grad -1.19e-05\n",
            "Epoch 405, cost 0.0179, m grad 1.01e-06, b grad -1.19e-05\n",
            "Epoch 406, cost 0.0179, m grad 1.01e-06, b grad -1.19e-05\n",
            "Epoch 407, cost 0.0179, m grad 1.01e-06, b grad -1.19e-05\n",
            "Epoch 408, cost 0.0179, m grad 1.01e-06, b grad -1.19e-05\n",
            "Epoch 409, cost 0.0179, m grad 1.01e-06, b grad -1.19e-05\n",
            "Epoch 410, cost 0.0179, m grad 1.01e-06, b grad -1.19e-05\n",
            "Epoch 411, cost 0.0179, m grad 1.01e-06, b grad -1.19e-05\n",
            "Epoch 412, cost 0.0179, m grad 1.01e-06, b grad -1.19e-05\n",
            "Epoch 413, cost 0.0179, m grad 1.01e-06, b grad -1.19e-05\n",
            "Epoch 414, cost 0.0179, m grad 1.01e-06, b grad -1.19e-05\n",
            "Epoch 415, cost 0.0179, m grad 1.01e-06, b grad -1.19e-05\n",
            "Epoch 416, cost 0.0179, m grad 1.01e-06, b grad -1.19e-05\n",
            "Epoch 417, cost 0.0179, m grad 1.01e-06, b grad -1.19e-05\n",
            "Epoch 418, cost 0.0179, m grad 1.01e-06, b grad -1.19e-05\n",
            "Epoch 419, cost 0.0179, m grad 1.01e-06, b grad -1.19e-05\n",
            "Epoch 420, cost 0.0179, m grad 1.01e-06, b grad -1.19e-05\n",
            "Epoch 421, cost 0.0179, m grad 1.01e-06, b grad -1.19e-05\n",
            "Epoch 422, cost 0.0179, m grad 1.01e-06, b grad -1.19e-05\n",
            "Epoch 423, cost 0.0179, m grad 1.01e-06, b grad -1.19e-05\n",
            "Epoch 424, cost 0.0179, m grad 1.01e-06, b grad -1.19e-05\n",
            "Epoch 425, cost 0.0179, m grad 1.01e-06, b grad -1.19e-05\n",
            "Epoch 426, cost 0.0179, m grad 1.01e-06, b grad -1.19e-05\n",
            "Epoch 427, cost 0.0179, m grad 1.01e-06, b grad -1.19e-05\n",
            "Epoch 428, cost 0.0179, m grad 1.01e-06, b grad -1.19e-05\n",
            "Epoch 429, cost 0.0179, m grad 1.01e-06, b grad -1.19e-05\n",
            "Epoch 430, cost 0.0179, m grad 1.01e-06, b grad -1.19e-05\n",
            "Epoch 431, cost 0.0179, m grad 1.01e-06, b grad -1.19e-05\n",
            "Epoch 432, cost 0.0179, m grad 1.01e-06, b grad -1.19e-05\n",
            "Epoch 433, cost 0.0179, m grad 1.01e-06, b grad -1.19e-05\n",
            "Epoch 434, cost 0.0179, m grad 1.01e-06, b grad -1.19e-05\n",
            "Epoch 435, cost 0.0179, m grad 1.01e-06, b grad -1.19e-05\n",
            "Epoch 436, cost 0.0179, m grad 1.01e-06, b grad -1.19e-05\n",
            "Epoch 437, cost 0.0179, m grad 1.01e-06, b grad -1.19e-05\n",
            "Epoch 438, cost 0.0179, m grad 1.01e-06, b grad -1.19e-05\n",
            "Epoch 439, cost 0.0179, m grad 1.01e-06, b grad -1.19e-05\n",
            "Epoch 440, cost 0.0179, m grad 1.01e-06, b grad -1.19e-05\n",
            "Epoch 441, cost 0.0179, m grad 1.01e-06, b grad -1.19e-05\n",
            "Epoch 442, cost 0.0179, m grad 1.01e-06, b grad -1.19e-05\n",
            "Epoch 443, cost 0.0179, m grad 1.01e-06, b grad -1.19e-05\n",
            "Epoch 444, cost 0.0179, m grad 1.01e-06, b grad -1.19e-05\n",
            "Epoch 445, cost 0.0179, m grad 1.01e-06, b grad -1.19e-05\n",
            "Epoch 446, cost 0.0179, m grad 1.01e-06, b grad -1.19e-05\n",
            "Epoch 447, cost 0.0179, m grad 1.01e-06, b grad -1.19e-05\n",
            "Epoch 448, cost 0.0179, m grad 1.01e-06, b grad -1.19e-05\n",
            "Epoch 449, cost 0.0179, m grad 1.01e-06, b grad -1.19e-05\n",
            "Epoch 450, cost 0.0179, m grad 1.01e-06, b grad -1.19e-05\n",
            "Epoch 451, cost 0.0179, m grad 1.01e-06, b grad -1.19e-05\n",
            "Epoch 452, cost 0.0179, m grad 1.01e-06, b grad -1.19e-05\n",
            "Epoch 453, cost 0.0179, m grad 1.01e-06, b grad -1.19e-05\n",
            "Epoch 454, cost 0.0179, m grad 1.01e-06, b grad -1.19e-05\n",
            "Epoch 455, cost 0.0179, m grad 1.01e-06, b grad -1.19e-05\n",
            "Epoch 456, cost 0.0179, m grad 1.01e-06, b grad -1.19e-05\n",
            "Epoch 457, cost 0.0179, m grad 1.01e-06, b grad -1.19e-05\n",
            "Epoch 458, cost 0.0179, m grad 1.01e-06, b grad -1.19e-05\n",
            "Epoch 459, cost 0.0179, m grad 1.01e-06, b grad -1.19e-05\n",
            "Epoch 460, cost 0.0179, m grad 1.01e-06, b grad -1.19e-05\n",
            "Epoch 461, cost 0.0179, m grad 1.01e-06, b grad -1.19e-05\n",
            "Epoch 462, cost 0.0179, m grad 1.01e-06, b grad -1.19e-05\n",
            "Epoch 463, cost 0.0179, m grad 1.01e-06, b grad -1.19e-05\n",
            "Epoch 464, cost 0.0179, m grad 1.01e-06, b grad -1.19e-05\n",
            "Epoch 465, cost 0.0179, m grad 1.01e-06, b grad -1.19e-05\n",
            "Epoch 466, cost 0.0179, m grad 1.01e-06, b grad -1.19e-05\n",
            "Epoch 467, cost 0.0179, m grad 1.01e-06, b grad -1.19e-05\n",
            "Epoch 468, cost 0.0179, m grad 1.01e-06, b grad -1.19e-05\n",
            "Epoch 469, cost 0.0179, m grad 1.01e-06, b grad -1.19e-05\n",
            "Epoch 470, cost 0.0179, m grad 1.01e-06, b grad -1.19e-05\n",
            "Epoch 471, cost 0.0179, m grad 1.01e-06, b grad -1.19e-05\n",
            "Epoch 472, cost 0.0179, m grad 1.01e-06, b grad -1.19e-05\n",
            "Epoch 473, cost 0.0179, m grad 1.01e-06, b grad -1.19e-05\n",
            "Epoch 474, cost 0.0179, m grad 1.01e-06, b grad -1.19e-05\n",
            "Epoch 475, cost 0.0179, m grad 1.01e-06, b grad -1.19e-05\n",
            "Epoch 476, cost 0.0179, m grad 1.01e-06, b grad -1.19e-05\n",
            "Epoch 477, cost 0.0179, m grad 1.01e-06, b grad -1.19e-05\n",
            "Epoch 478, cost 0.0179, m grad 1.01e-06, b grad -1.19e-05\n",
            "Epoch 479, cost 0.0179, m grad 1.01e-06, b grad -1.19e-05\n",
            "Epoch 480, cost 0.0179, m grad 1.01e-06, b grad -1.19e-05\n",
            "Epoch 481, cost 0.0179, m grad 1.01e-06, b grad -1.19e-05\n",
            "Epoch 482, cost 0.0179, m grad 1.01e-06, b grad -1.19e-05\n",
            "Epoch 483, cost 0.0179, m grad 1.01e-06, b grad -1.19e-05\n",
            "Epoch 484, cost 0.0179, m grad 1.01e-06, b grad -1.19e-05\n",
            "Epoch 485, cost 0.0179, m grad 1.01e-06, b grad -1.19e-05\n",
            "Epoch 486, cost 0.0179, m grad 1.01e-06, b grad -1.19e-05\n",
            "Epoch 487, cost 0.0179, m grad 1.01e-06, b grad -1.19e-05\n",
            "Epoch 488, cost 0.0179, m grad 1.01e-06, b grad -1.19e-05\n",
            "Epoch 489, cost 0.0179, m grad 1.01e-06, b grad -1.19e-05\n",
            "Epoch 490, cost 0.0179, m grad 1.01e-06, b grad -1.19e-05\n",
            "Epoch 491, cost 0.0179, m grad 1.01e-06, b grad -1.19e-05\n",
            "Epoch 492, cost 0.0179, m grad 1.01e-06, b grad -1.19e-05\n",
            "Epoch 493, cost 0.0179, m grad 1.01e-06, b grad -1.19e-05\n",
            "Epoch 494, cost 0.0179, m grad 1.01e-06, b grad -1.19e-05\n",
            "Epoch 495, cost 0.0179, m grad 1.01e-06, b grad -1.19e-05\n",
            "Epoch 496, cost 0.0179, m grad 1.01e-06, b grad -1.19e-05\n",
            "Epoch 497, cost 0.0179, m grad 1.01e-06, b grad -1.19e-05\n",
            "Epoch 498, cost 0.0179, m grad 1.01e-06, b grad -1.19e-05\n",
            "Epoch 499, cost 0.0179, m grad 1.01e-06, b grad -1.19e-05\n",
            "Epoch 500, cost 0.0179, m grad 1.01e-06, b grad -1.19e-05\n",
            "Epoch 501, cost 0.0179, m grad 1.01e-06, b grad -1.19e-05\n",
            "Epoch 502, cost 0.0179, m grad 1.01e-06, b grad -1.19e-05\n",
            "Epoch 503, cost 0.0179, m grad 1.01e-06, b grad -1.19e-05\n",
            "Epoch 504, cost 0.0179, m grad 1.01e-06, b grad -1.19e-05\n",
            "Epoch 505, cost 0.0179, m grad 1.01e-06, b grad -1.19e-05\n",
            "Epoch 506, cost 0.0179, m grad 1.01e-06, b grad -1.19e-05\n",
            "Epoch 507, cost 0.0179, m grad 1.01e-06, b grad -1.19e-05\n",
            "Epoch 508, cost 0.0179, m grad 1.01e-06, b grad -1.19e-05\n",
            "Epoch 509, cost 0.0179, m grad 1.01e-06, b grad -1.19e-05\n",
            "Epoch 510, cost 0.0179, m grad 1.01e-06, b grad -1.19e-05\n",
            "Epoch 511, cost 0.0179, m grad 1.01e-06, b grad -1.19e-05\n",
            "Epoch 512, cost 0.0179, m grad 1.01e-06, b grad -1.19e-05\n",
            "Epoch 513, cost 0.0179, m grad 1.01e-06, b grad -1.19e-05\n",
            "Epoch 514, cost 0.0179, m grad 1.01e-06, b grad -1.19e-05\n",
            "Epoch 515, cost 0.0179, m grad 1.01e-06, b grad -1.19e-05\n",
            "Epoch 516, cost 0.0179, m grad 1.01e-06, b grad -1.19e-05\n",
            "Epoch 517, cost 0.0179, m grad 1.01e-06, b grad -1.19e-05\n",
            "Epoch 518, cost 0.0179, m grad 1.01e-06, b grad -1.19e-05\n",
            "Epoch 519, cost 0.0179, m grad 1.01e-06, b grad -1.19e-05\n",
            "Epoch 520, cost 0.0179, m grad 1.01e-06, b grad -1.19e-05\n",
            "Epoch 521, cost 0.0179, m grad 1.01e-06, b grad -1.19e-05\n",
            "Epoch 522, cost 0.0179, m grad 1.01e-06, b grad -1.19e-05\n",
            "Epoch 523, cost 0.0179, m grad 1.01e-06, b grad -1.19e-05\n",
            "Epoch 524, cost 0.0179, m grad 1.01e-06, b grad -1.19e-05\n",
            "Epoch 525, cost 0.0179, m grad 1.01e-06, b grad -1.19e-05\n",
            "Epoch 526, cost 0.0179, m grad 1.01e-06, b grad -1.19e-05\n",
            "Epoch 527, cost 0.0179, m grad 1.01e-06, b grad -1.19e-05\n",
            "Epoch 528, cost 0.0179, m grad 1.01e-06, b grad -1.19e-05\n",
            "Epoch 529, cost 0.0179, m grad 1.01e-06, b grad -1.19e-05\n",
            "Epoch 530, cost 0.0179, m grad 1.01e-06, b grad -1.19e-05\n",
            "Epoch 531, cost 0.0179, m grad 1.01e-06, b grad -1.19e-05\n",
            "Epoch 532, cost 0.0179, m grad 1.01e-06, b grad -1.19e-05\n",
            "Epoch 533, cost 0.0179, m grad 1.01e-06, b grad -1.19e-05\n",
            "Epoch 534, cost 0.0179, m grad 1.01e-06, b grad -1.19e-05\n",
            "Epoch 535, cost 0.0179, m grad 1.01e-06, b grad -1.19e-05\n",
            "Epoch 536, cost 0.0179, m grad 1.01e-06, b grad -1.19e-05\n",
            "Epoch 537, cost 0.0179, m grad 1.01e-06, b grad -1.19e-05\n",
            "Epoch 538, cost 0.0179, m grad 1.01e-06, b grad -1.19e-05\n",
            "Epoch 539, cost 0.0179, m grad 1.01e-06, b grad -1.19e-05\n",
            "Epoch 540, cost 0.0179, m grad 1.01e-06, b grad -1.19e-05\n",
            "Epoch 541, cost 0.0179, m grad 1.01e-06, b grad -1.19e-05\n",
            "Epoch 542, cost 0.0179, m grad 1.01e-06, b grad -1.19e-05\n",
            "Epoch 543, cost 0.0179, m grad 1.01e-06, b grad -1.19e-05\n",
            "Epoch 544, cost 0.0179, m grad 1.01e-06, b grad -1.19e-05\n",
            "Epoch 545, cost 0.0179, m grad 1.01e-06, b grad -1.19e-05\n",
            "Epoch 546, cost 0.0179, m grad 1.01e-06, b grad -1.19e-05\n",
            "Epoch 547, cost 0.0179, m grad 1.01e-06, b grad -1.19e-05\n",
            "Epoch 548, cost 0.0179, m grad 1.01e-06, b grad -1.19e-05\n",
            "Epoch 549, cost 0.0179, m grad 1.01e-06, b grad -1.19e-05\n",
            "Epoch 550, cost 0.0179, m grad 1.01e-06, b grad -1.19e-05\n",
            "Epoch 551, cost 0.0179, m grad 1.01e-06, b grad -1.19e-05\n",
            "Epoch 552, cost 0.0179, m grad 1.01e-06, b grad -1.19e-05\n",
            "Epoch 553, cost 0.0179, m grad 1.01e-06, b grad -1.19e-05\n",
            "Epoch 554, cost 0.0179, m grad 1.01e-06, b grad -1.19e-05\n",
            "Epoch 555, cost 0.0179, m grad 1.01e-06, b grad -1.19e-05\n",
            "Epoch 556, cost 0.0179, m grad 1.01e-06, b grad -1.19e-05\n",
            "Epoch 557, cost 0.0179, m grad 1.01e-06, b grad -1.19e-05\n",
            "Epoch 558, cost 0.0179, m grad 1.01e-06, b grad -1.19e-05\n",
            "Epoch 559, cost 0.0179, m grad 1.01e-06, b grad -1.19e-05\n",
            "Epoch 560, cost 0.0179, m grad 1.01e-06, b grad -1.19e-05\n",
            "Epoch 561, cost 0.0179, m grad 1.01e-06, b grad -1.19e-05\n",
            "Epoch 562, cost 0.0179, m grad 1.01e-06, b grad -1.19e-05\n",
            "Epoch 563, cost 0.0179, m grad 1.01e-06, b grad -1.19e-05\n",
            "Epoch 564, cost 0.0179, m grad 1.01e-06, b grad -1.19e-05\n",
            "Epoch 565, cost 0.0179, m grad 1.01e-06, b grad -1.19e-05\n",
            "Epoch 566, cost 0.0179, m grad 1.01e-06, b grad -1.19e-05\n",
            "Epoch 567, cost 0.0179, m grad 1.01e-06, b grad -1.19e-05\n",
            "Epoch 568, cost 0.0179, m grad 1.01e-06, b grad -1.19e-05\n",
            "Epoch 569, cost 0.0179, m grad 1.01e-06, b grad -1.19e-05\n",
            "Epoch 570, cost 0.0179, m grad 1.01e-06, b grad -1.19e-05\n",
            "Epoch 571, cost 0.0179, m grad 1.01e-06, b grad -1.19e-05\n",
            "Epoch 572, cost 0.0179, m grad 1.01e-06, b grad -1.19e-05\n",
            "Epoch 573, cost 0.0179, m grad 1.01e-06, b grad -1.19e-05\n",
            "Epoch 574, cost 0.0179, m grad 1.01e-06, b grad -1.19e-05\n",
            "Epoch 575, cost 0.0179, m grad 1.01e-06, b grad -1.19e-05\n",
            "Epoch 576, cost 0.0179, m grad 1.01e-06, b grad -1.19e-05\n",
            "Epoch 577, cost 0.0179, m grad 1.01e-06, b grad -1.19e-05\n",
            "Epoch 578, cost 0.0179, m grad 1.01e-06, b grad -1.19e-05\n",
            "Epoch 579, cost 0.0179, m grad 1.01e-06, b grad -1.19e-05\n",
            "Epoch 580, cost 0.0179, m grad 1.01e-06, b grad -1.19e-05\n",
            "Epoch 581, cost 0.0179, m grad 1.01e-06, b grad -1.19e-05\n",
            "Epoch 582, cost 0.0179, m grad 1.01e-06, b grad -1.19e-05\n",
            "Epoch 583, cost 0.0179, m grad 1.01e-06, b grad -1.19e-05\n",
            "Epoch 584, cost 0.0179, m grad 1.01e-06, b grad -1.19e-05\n",
            "Epoch 585, cost 0.0179, m grad 1.01e-06, b grad -1.19e-05\n",
            "Epoch 586, cost 0.0179, m grad 1.01e-06, b grad -1.19e-05\n",
            "Epoch 587, cost 0.0179, m grad 1.01e-06, b grad -1.19e-05\n",
            "Epoch 588, cost 0.0179, m grad 1.01e-06, b grad -1.19e-05\n",
            "Epoch 589, cost 0.0179, m grad 1.01e-06, b grad -1.19e-05\n",
            "Epoch 590, cost 0.0179, m grad 1.01e-06, b grad -1.19e-05\n",
            "Epoch 591, cost 0.0179, m grad 1.01e-06, b grad -1.19e-05\n",
            "Epoch 592, cost 0.0179, m grad 1.01e-06, b grad -1.19e-05\n",
            "Epoch 593, cost 0.0179, m grad 1.01e-06, b grad -1.19e-05\n",
            "Epoch 594, cost 0.0179, m grad 1.01e-06, b grad -1.19e-05\n",
            "Epoch 595, cost 0.0179, m grad 1.01e-06, b grad -1.19e-05\n",
            "Epoch 596, cost 0.0179, m grad 1.01e-06, b grad -1.19e-05\n",
            "Epoch 597, cost 0.0179, m grad 1.01e-06, b grad -1.19e-05\n",
            "Epoch 598, cost 0.0179, m grad 1.01e-06, b grad -1.19e-05\n",
            "Epoch 599, cost 0.0179, m grad 1.01e-06, b grad -1.19e-05\n",
            "Epoch 600, cost 0.0179, m grad 1.01e-06, b grad -1.19e-05\n",
            "Epoch 601, cost 0.0179, m grad 1.01e-06, b grad -1.19e-05\n",
            "Epoch 602, cost 0.0179, m grad 1.01e-06, b grad -1.19e-05\n",
            "Epoch 603, cost 0.0179, m grad 1.01e-06, b grad -1.19e-05\n",
            "Epoch 604, cost 0.0179, m grad 1.01e-06, b grad -1.19e-05\n",
            "Epoch 605, cost 0.0179, m grad 1.01e-06, b grad -1.19e-05\n",
            "Epoch 606, cost 0.0179, m grad 1.01e-06, b grad -1.19e-05\n",
            "Epoch 607, cost 0.0179, m grad 1.01e-06, b grad -1.19e-05\n",
            "Epoch 608, cost 0.0179, m grad 1.01e-06, b grad -1.19e-05\n",
            "Epoch 609, cost 0.0179, m grad 1.01e-06, b grad -1.19e-05\n",
            "Epoch 610, cost 0.0179, m grad 1.01e-06, b grad -1.19e-05\n",
            "Epoch 611, cost 0.0179, m grad 1.01e-06, b grad -1.19e-05\n",
            "Epoch 612, cost 0.0179, m grad 1.01e-06, b grad -1.19e-05\n",
            "Epoch 613, cost 0.0179, m grad 1.01e-06, b grad -1.19e-05\n",
            "Epoch 614, cost 0.0179, m grad 1.01e-06, b grad -1.19e-05\n",
            "Epoch 615, cost 0.0179, m grad 1.01e-06, b grad -1.19e-05\n",
            "Epoch 616, cost 0.0179, m grad 1.01e-06, b grad -1.19e-05\n",
            "Epoch 617, cost 0.0179, m grad 1.01e-06, b grad -1.19e-05\n",
            "Epoch 618, cost 0.0179, m grad 1.01e-06, b grad -1.19e-05\n",
            "Epoch 619, cost 0.0179, m grad 1.01e-06, b grad -1.19e-05\n",
            "Epoch 620, cost 0.0179, m grad 1.01e-06, b grad -1.19e-05\n",
            "Epoch 621, cost 0.0179, m grad 1.01e-06, b grad -1.19e-05\n",
            "Epoch 622, cost 0.0179, m grad 1.01e-06, b grad -1.19e-05\n",
            "Epoch 623, cost 0.0179, m grad 1.01e-06, b grad -1.19e-05\n",
            "Epoch 624, cost 0.0179, m grad 1.01e-06, b grad -1.19e-05\n",
            "Epoch 625, cost 0.0179, m grad 1.01e-06, b grad -1.19e-05\n",
            "Epoch 626, cost 0.0179, m grad 1.01e-06, b grad -1.19e-05\n",
            "Epoch 627, cost 0.0179, m grad 1.01e-06, b grad -1.19e-05\n",
            "Epoch 628, cost 0.0179, m grad 1.01e-06, b grad -1.19e-05\n",
            "Epoch 629, cost 0.0179, m grad 1.01e-06, b grad -1.19e-05\n",
            "Epoch 630, cost 0.0179, m grad 1.01e-06, b grad -1.19e-05\n",
            "Epoch 631, cost 0.0179, m grad 1.01e-06, b grad -1.19e-05\n",
            "Epoch 632, cost 0.0179, m grad 1.01e-06, b grad -1.19e-05\n",
            "Epoch 633, cost 0.0179, m grad 1.01e-06, b grad -1.19e-05\n",
            "Epoch 634, cost 0.0179, m grad 1.01e-06, b grad -1.19e-05\n",
            "Epoch 635, cost 0.0179, m grad 1.01e-06, b grad -1.19e-05\n",
            "Epoch 636, cost 0.0179, m grad 1.01e-06, b grad -1.19e-05\n",
            "Epoch 637, cost 0.0179, m grad 1.01e-06, b grad -1.19e-05\n",
            "Epoch 638, cost 0.0179, m grad 1.01e-06, b grad -1.19e-05\n",
            "Epoch 639, cost 0.0179, m grad 1.01e-06, b grad -1.19e-05\n",
            "Epoch 640, cost 0.0179, m grad 1.01e-06, b grad -1.19e-05\n",
            "Epoch 641, cost 0.0179, m grad 1.01e-06, b grad -1.19e-05\n",
            "Epoch 642, cost 0.0179, m grad 1.01e-06, b grad -1.19e-05\n",
            "Epoch 643, cost 0.0179, m grad 1.01e-06, b grad -1.19e-05\n",
            "Epoch 644, cost 0.0179, m grad 1.01e-06, b grad -1.19e-05\n",
            "Epoch 645, cost 0.0179, m grad 1.01e-06, b grad -1.19e-05\n",
            "Epoch 646, cost 0.0179, m grad 1.01e-06, b grad -1.19e-05\n",
            "Epoch 647, cost 0.0179, m grad 1.01e-06, b grad -1.19e-05\n",
            "Epoch 648, cost 0.0179, m grad 1.01e-06, b grad -1.19e-05\n",
            "Epoch 649, cost 0.0179, m grad 1.01e-06, b grad -1.19e-05\n",
            "Epoch 650, cost 0.0179, m grad 1.01e-06, b grad -1.19e-05\n",
            "Epoch 651, cost 0.0179, m grad 1.01e-06, b grad -1.19e-05\n",
            "Epoch 652, cost 0.0179, m grad 1.01e-06, b grad -1.19e-05\n",
            "Epoch 653, cost 0.0179, m grad 1.01e-06, b grad -1.19e-05\n",
            "Epoch 654, cost 0.0179, m grad 1.01e-06, b grad -1.19e-05\n",
            "Epoch 655, cost 0.0179, m grad 1.01e-06, b grad -1.19e-05\n",
            "Epoch 656, cost 0.0179, m grad 1.01e-06, b grad -1.19e-05\n",
            "Epoch 657, cost 0.0179, m grad 1.01e-06, b grad -1.19e-05\n",
            "Epoch 658, cost 0.0179, m grad 1.01e-06, b grad -1.19e-05\n",
            "Epoch 659, cost 0.0179, m grad 1.01e-06, b grad -1.19e-05\n",
            "Epoch 660, cost 0.0179, m grad 1.01e-06, b grad -1.19e-05\n",
            "Epoch 661, cost 0.0179, m grad 1.01e-06, b grad -1.19e-05\n",
            "Epoch 662, cost 0.0179, m grad 1.01e-06, b grad -1.19e-05\n",
            "Epoch 663, cost 0.0179, m grad 1.01e-06, b grad -1.19e-05\n",
            "Epoch 664, cost 0.0179, m grad 1.01e-06, b grad -1.19e-05\n",
            "Epoch 665, cost 0.0179, m grad 1.01e-06, b grad -1.19e-05\n",
            "Epoch 666, cost 0.0179, m grad 1.01e-06, b grad -1.19e-05\n",
            "Epoch 667, cost 0.0179, m grad 1.01e-06, b grad -1.19e-05\n",
            "Epoch 668, cost 0.0179, m grad 1.01e-06, b grad -1.19e-05\n",
            "Epoch 669, cost 0.0179, m grad 1.01e-06, b grad -1.19e-05\n",
            "Epoch 670, cost 0.0179, m grad 1.01e-06, b grad -1.19e-05\n",
            "Epoch 671, cost 0.0179, m grad 1.01e-06, b grad -1.19e-05\n",
            "Epoch 672, cost 0.0179, m grad 1.01e-06, b grad -1.19e-05\n",
            "Epoch 673, cost 0.0179, m grad 1.01e-06, b grad -1.19e-05\n",
            "Epoch 674, cost 0.0179, m grad 1.01e-06, b grad -1.19e-05\n",
            "Epoch 675, cost 0.0179, m grad 1.01e-06, b grad -1.19e-05\n",
            "Epoch 676, cost 0.0179, m grad 1.01e-06, b grad -1.19e-05\n",
            "Epoch 677, cost 0.0179, m grad 1.01e-06, b grad -1.19e-05\n",
            "Epoch 678, cost 0.0179, m grad 1.01e-06, b grad -1.19e-05\n",
            "Epoch 679, cost 0.0179, m grad 1.01e-06, b grad -1.19e-05\n",
            "Epoch 680, cost 0.0179, m grad 1.01e-06, b grad -1.19e-05\n",
            "Epoch 681, cost 0.0179, m grad 1.01e-06, b grad -1.19e-05\n",
            "Epoch 682, cost 0.0179, m grad 1.01e-06, b grad -1.19e-05\n",
            "Epoch 683, cost 0.0179, m grad 1.01e-06, b grad -1.19e-05\n",
            "Epoch 684, cost 0.0179, m grad 1.01e-06, b grad -1.19e-05\n",
            "Epoch 685, cost 0.0179, m grad 1.01e-06, b grad -1.19e-05\n",
            "Epoch 686, cost 0.0179, m grad 1.01e-06, b grad -1.19e-05\n",
            "Epoch 687, cost 0.0179, m grad 1.01e-06, b grad -1.19e-05\n",
            "Epoch 688, cost 0.0179, m grad 1.01e-06, b grad -1.19e-05\n",
            "Epoch 689, cost 0.0179, m grad 1.01e-06, b grad -1.19e-05\n",
            "Epoch 690, cost 0.0179, m grad 1.01e-06, b grad -1.19e-05\n",
            "Epoch 691, cost 0.0179, m grad 1.01e-06, b grad -1.19e-05\n",
            "Epoch 692, cost 0.0179, m grad 1.01e-06, b grad -1.19e-05\n",
            "Epoch 693, cost 0.0179, m grad 1.01e-06, b grad -1.19e-05\n",
            "Epoch 694, cost 0.0179, m grad 1.01e-06, b grad -1.19e-05\n",
            "Epoch 695, cost 0.0179, m grad 1.01e-06, b grad -1.19e-05\n",
            "Epoch 696, cost 0.0179, m grad 1.01e-06, b grad -1.19e-05\n",
            "Epoch 697, cost 0.0179, m grad 1.01e-06, b grad -1.19e-05\n",
            "Epoch 698, cost 0.0179, m grad 1.01e-06, b grad -1.19e-05\n",
            "Epoch 699, cost 0.0179, m grad 1.01e-06, b grad -1.19e-05\n",
            "Epoch 700, cost 0.0179, m grad 1.01e-06, b grad -1.19e-05\n",
            "Epoch 701, cost 0.0179, m grad 1.01e-06, b grad -1.19e-05\n",
            "Epoch 702, cost 0.0179, m grad 1.01e-06, b grad -1.19e-05\n",
            "Epoch 703, cost 0.0179, m grad 1.01e-06, b grad -1.19e-05\n",
            "Epoch 704, cost 0.0179, m grad 1.01e-06, b grad -1.19e-05\n",
            "Epoch 705, cost 0.0179, m grad 1.01e-06, b grad -1.19e-05\n",
            "Epoch 706, cost 0.0179, m grad 1.01e-06, b grad -1.19e-05\n",
            "Epoch 707, cost 0.0179, m grad 1.01e-06, b grad -1.19e-05\n",
            "Epoch 708, cost 0.0179, m grad 1.01e-06, b grad -1.19e-05\n",
            "Epoch 709, cost 0.0179, m grad 1.01e-06, b grad -1.19e-05\n",
            "Epoch 710, cost 0.0179, m grad 1.01e-06, b grad -1.19e-05\n",
            "Epoch 711, cost 0.0179, m grad 1.01e-06, b grad -1.19e-05\n",
            "Epoch 712, cost 0.0179, m grad 1.01e-06, b grad -1.19e-05\n",
            "Epoch 713, cost 0.0179, m grad 1.01e-06, b grad -1.19e-05\n",
            "Epoch 714, cost 0.0179, m grad 1.01e-06, b grad -1.19e-05\n",
            "Epoch 715, cost 0.0179, m grad 1.01e-06, b grad -1.19e-05\n",
            "Epoch 716, cost 0.0179, m grad 1.01e-06, b grad -1.19e-05\n",
            "Epoch 717, cost 0.0179, m grad 1.01e-06, b grad -1.19e-05\n",
            "Epoch 718, cost 0.0179, m grad 1.01e-06, b grad -1.19e-05\n",
            "Epoch 719, cost 0.0179, m grad 1.01e-06, b grad -1.19e-05\n",
            "Epoch 720, cost 0.0179, m grad 1.01e-06, b grad -1.19e-05\n",
            "Epoch 721, cost 0.0179, m grad 1.01e-06, b grad -1.19e-05\n",
            "Epoch 722, cost 0.0179, m grad 1.01e-06, b grad -1.19e-05\n",
            "Epoch 723, cost 0.0179, m grad 1.01e-06, b grad -1.19e-05\n",
            "Epoch 724, cost 0.0179, m grad 1.01e-06, b grad -1.19e-05\n",
            "Epoch 725, cost 0.0179, m grad 1.01e-06, b grad -1.19e-05\n",
            "Epoch 726, cost 0.0179, m grad 1.01e-06, b grad -1.19e-05\n",
            "Epoch 727, cost 0.0179, m grad 1.01e-06, b grad -1.19e-05\n",
            "Epoch 728, cost 0.0179, m grad 1.01e-06, b grad -1.19e-05\n",
            "Epoch 729, cost 0.0179, m grad 1.01e-06, b grad -1.19e-05\n",
            "Epoch 730, cost 0.0179, m grad 1.01e-06, b grad -1.19e-05\n",
            "Epoch 731, cost 0.0179, m grad 1.01e-06, b grad -1.19e-05\n",
            "Epoch 732, cost 0.0179, m grad 1.01e-06, b grad -1.19e-05\n",
            "Epoch 733, cost 0.0179, m grad 1.01e-06, b grad -1.19e-05\n",
            "Epoch 734, cost 0.0179, m grad 1.01e-06, b grad -1.19e-05\n",
            "Epoch 735, cost 0.0179, m grad 1.01e-06, b grad -1.19e-05\n",
            "Epoch 736, cost 0.0179, m grad 1.01e-06, b grad -1.19e-05\n",
            "Epoch 737, cost 0.0179, m grad 1.01e-06, b grad -1.19e-05\n",
            "Epoch 738, cost 0.0179, m grad 1.01e-06, b grad -1.19e-05\n",
            "Epoch 739, cost 0.0179, m grad 1.01e-06, b grad -1.19e-05\n",
            "Epoch 740, cost 0.0179, m grad 1.01e-06, b grad -1.19e-05\n",
            "Epoch 741, cost 0.0179, m grad 1.01e-06, b grad -1.19e-05\n",
            "Epoch 742, cost 0.0179, m grad 1.01e-06, b grad -1.19e-05\n",
            "Epoch 743, cost 0.0179, m grad 1.01e-06, b grad -1.19e-05\n",
            "Epoch 744, cost 0.0179, m grad 1.01e-06, b grad -1.19e-05\n",
            "Epoch 745, cost 0.0179, m grad 1.01e-06, b grad -1.19e-05\n",
            "Epoch 746, cost 0.0179, m grad 1.01e-06, b grad -1.19e-05\n",
            "Epoch 747, cost 0.0179, m grad 1.01e-06, b grad -1.19e-05\n",
            "Epoch 748, cost 0.0179, m grad 1.01e-06, b grad -1.19e-05\n",
            "Epoch 749, cost 0.0179, m grad 1.01e-06, b grad -1.19e-05\n",
            "Epoch 750, cost 0.0179, m grad 1.01e-06, b grad -1.19e-05\n",
            "Epoch 751, cost 0.0179, m grad 1.01e-06, b grad -1.19e-05\n",
            "Epoch 752, cost 0.0179, m grad 1.01e-06, b grad -1.19e-05\n",
            "Epoch 753, cost 0.0179, m grad 1.01e-06, b grad -1.19e-05\n",
            "Epoch 754, cost 0.0179, m grad 1.01e-06, b grad -1.19e-05\n",
            "Epoch 755, cost 0.0179, m grad 1.01e-06, b grad -1.19e-05\n",
            "Epoch 756, cost 0.0179, m grad 1.01e-06, b grad -1.19e-05\n",
            "Epoch 757, cost 0.0179, m grad 1.01e-06, b grad -1.19e-05\n",
            "Epoch 758, cost 0.0179, m grad 1.01e-06, b grad -1.19e-05\n",
            "Epoch 759, cost 0.0179, m grad 1.01e-06, b grad -1.19e-05\n",
            "Epoch 760, cost 0.0179, m grad 1.01e-06, b grad -1.19e-05\n",
            "Epoch 761, cost 0.0179, m grad 1.01e-06, b grad -1.19e-05\n",
            "Epoch 762, cost 0.0179, m grad 1.01e-06, b grad -1.19e-05\n",
            "Epoch 763, cost 0.0179, m grad 1.01e-06, b grad -1.19e-05\n",
            "Epoch 764, cost 0.0179, m grad 1.01e-06, b grad -1.19e-05\n",
            "Epoch 765, cost 0.0179, m grad 1.01e-06, b grad -1.19e-05\n",
            "Epoch 766, cost 0.0179, m grad 1.01e-06, b grad -1.19e-05\n",
            "Epoch 767, cost 0.0179, m grad 1.01e-06, b grad -1.19e-05\n",
            "Epoch 768, cost 0.0179, m grad 1.01e-06, b grad -1.19e-05\n",
            "Epoch 769, cost 0.0179, m grad 1.01e-06, b grad -1.19e-05\n",
            "Epoch 770, cost 0.0179, m grad 1.01e-06, b grad -1.19e-05\n",
            "Epoch 771, cost 0.0179, m grad 1.01e-06, b grad -1.19e-05\n",
            "Epoch 772, cost 0.0179, m grad 1.01e-06, b grad -1.19e-05\n",
            "Epoch 773, cost 0.0179, m grad 1.01e-06, b grad -1.19e-05\n",
            "Epoch 774, cost 0.0179, m grad 1.01e-06, b grad -1.19e-05\n",
            "Epoch 775, cost 0.0179, m grad 1.01e-06, b grad -1.19e-05\n",
            "Epoch 776, cost 0.0179, m grad 1.01e-06, b grad -1.19e-05\n",
            "Epoch 777, cost 0.0179, m grad 1.01e-06, b grad -1.19e-05\n",
            "Epoch 778, cost 0.0179, m grad 1.01e-06, b grad -1.19e-05\n",
            "Epoch 779, cost 0.0179, m grad 1.01e-06, b grad -1.19e-05\n",
            "Epoch 780, cost 0.0179, m grad 1.01e-06, b grad -1.19e-05\n",
            "Epoch 781, cost 0.0179, m grad 1.01e-06, b grad -1.19e-05\n",
            "Epoch 782, cost 0.0179, m grad 1.01e-06, b grad -1.19e-05\n",
            "Epoch 783, cost 0.0179, m grad 1.01e-06, b grad -1.19e-05\n",
            "Epoch 784, cost 0.0179, m grad 1.01e-06, b grad -1.19e-05\n",
            "Epoch 785, cost 0.0179, m grad 1.01e-06, b grad -1.19e-05\n",
            "Epoch 786, cost 0.0179, m grad 1.01e-06, b grad -1.19e-05\n",
            "Epoch 787, cost 0.0179, m grad 1.01e-06, b grad -1.19e-05\n",
            "Epoch 788, cost 0.0179, m grad 1.01e-06, b grad -1.19e-05\n",
            "Epoch 789, cost 0.0179, m grad 1.01e-06, b grad -1.19e-05\n",
            "Epoch 790, cost 0.0179, m grad 1.01e-06, b grad -1.19e-05\n",
            "Epoch 791, cost 0.0179, m grad 1.01e-06, b grad -1.19e-05\n",
            "Epoch 792, cost 0.0179, m grad 1.01e-06, b grad -1.19e-05\n",
            "Epoch 793, cost 0.0179, m grad 1.01e-06, b grad -1.19e-05\n",
            "Epoch 794, cost 0.0179, m grad 1.01e-06, b grad -1.19e-05\n",
            "Epoch 795, cost 0.0179, m grad 1.01e-06, b grad -1.19e-05\n",
            "Epoch 796, cost 0.0179, m grad 1.01e-06, b grad -1.19e-05\n",
            "Epoch 797, cost 0.0179, m grad 1.01e-06, b grad -1.19e-05\n",
            "Epoch 798, cost 0.0179, m grad 1.01e-06, b grad -1.19e-05\n",
            "Epoch 799, cost 0.0179, m grad 1.01e-06, b grad -1.19e-05\n",
            "Epoch 800, cost 0.0179, m grad 1.01e-06, b grad -1.19e-05\n",
            "Epoch 801, cost 0.0179, m grad 1.01e-06, b grad -1.19e-05\n",
            "Epoch 802, cost 0.0179, m grad 1.01e-06, b grad -1.19e-05\n",
            "Epoch 803, cost 0.0179, m grad 1.01e-06, b grad -1.19e-05\n",
            "Epoch 804, cost 0.0179, m grad 1.01e-06, b grad -1.19e-05\n",
            "Epoch 805, cost 0.0179, m grad 1.01e-06, b grad -1.19e-05\n",
            "Epoch 806, cost 0.0179, m grad 1.01e-06, b grad -1.19e-05\n",
            "Epoch 807, cost 0.0179, m grad 1.01e-06, b grad -1.19e-05\n",
            "Epoch 808, cost 0.0179, m grad 1.01e-06, b grad -1.19e-05\n",
            "Epoch 809, cost 0.0179, m grad 1.01e-06, b grad -1.19e-05\n",
            "Epoch 810, cost 0.0179, m grad 1.01e-06, b grad -1.19e-05\n",
            "Epoch 811, cost 0.0179, m grad 1.01e-06, b grad -1.19e-05\n",
            "Epoch 812, cost 0.0179, m grad 1.01e-06, b grad -1.19e-05\n",
            "Epoch 813, cost 0.0179, m grad 1.01e-06, b grad -1.19e-05\n",
            "Epoch 814, cost 0.0179, m grad 1.01e-06, b grad -1.19e-05\n",
            "Epoch 815, cost 0.0179, m grad 1.01e-06, b grad -1.19e-05\n",
            "Epoch 816, cost 0.0179, m grad 1.01e-06, b grad -1.19e-05\n",
            "Epoch 817, cost 0.0179, m grad 1.01e-06, b grad -1.19e-05\n",
            "Epoch 818, cost 0.0179, m grad 1.01e-06, b grad -1.19e-05\n",
            "Epoch 819, cost 0.0179, m grad 1.01e-06, b grad -1.19e-05\n",
            "Epoch 820, cost 0.0179, m grad 1.01e-06, b grad -1.19e-05\n",
            "Epoch 821, cost 0.0179, m grad 1.01e-06, b grad -1.19e-05\n",
            "Epoch 822, cost 0.0179, m grad 1.01e-06, b grad -1.19e-05\n",
            "Epoch 823, cost 0.0179, m grad 1.01e-06, b grad -1.19e-05\n",
            "Epoch 824, cost 0.0179, m grad 1.01e-06, b grad -1.19e-05\n",
            "Epoch 825, cost 0.0179, m grad 1.01e-06, b grad -1.19e-05\n",
            "Epoch 826, cost 0.0179, m grad 1.01e-06, b grad -1.19e-05\n",
            "Epoch 827, cost 0.0179, m grad 1.01e-06, b grad -1.19e-05\n",
            "Epoch 828, cost 0.0179, m grad 1.01e-06, b grad -1.19e-05\n",
            "Epoch 829, cost 0.0179, m grad 1.01e-06, b grad -1.19e-05\n",
            "Epoch 830, cost 0.0179, m grad 1.01e-06, b grad -1.19e-05\n",
            "Epoch 831, cost 0.0179, m grad 1.01e-06, b grad -1.19e-05\n",
            "Epoch 832, cost 0.0179, m grad 1.01e-06, b grad -1.19e-05\n",
            "Epoch 833, cost 0.0179, m grad 1.01e-06, b grad -1.19e-05\n",
            "Epoch 834, cost 0.0179, m grad 1.01e-06, b grad -1.19e-05\n",
            "Epoch 835, cost 0.0179, m grad 1.01e-06, b grad -1.19e-05\n",
            "Epoch 836, cost 0.0179, m grad 1.01e-06, b grad -1.19e-05\n",
            "Epoch 837, cost 0.0179, m grad 1.01e-06, b grad -1.19e-05\n",
            "Epoch 838, cost 0.0179, m grad 1.01e-06, b grad -1.19e-05\n",
            "Epoch 839, cost 0.0179, m grad 1.01e-06, b grad -1.19e-05\n",
            "Epoch 840, cost 0.0179, m grad 1.01e-06, b grad -1.19e-05\n",
            "Epoch 841, cost 0.0179, m grad 1.01e-06, b grad -1.19e-05\n",
            "Epoch 842, cost 0.0179, m grad 1.01e-06, b grad -1.19e-05\n",
            "Epoch 843, cost 0.0179, m grad 1.01e-06, b grad -1.19e-05\n",
            "Epoch 844, cost 0.0179, m grad 1.01e-06, b grad -1.19e-05\n",
            "Epoch 845, cost 0.0179, m grad 1.01e-06, b grad -1.19e-05\n",
            "Epoch 846, cost 0.0179, m grad 1.01e-06, b grad -1.19e-05\n",
            "Epoch 847, cost 0.0179, m grad 1.01e-06, b grad -1.19e-05\n",
            "Epoch 848, cost 0.0179, m grad 1.01e-06, b grad -1.19e-05\n",
            "Epoch 849, cost 0.0179, m grad 1.01e-06, b grad -1.19e-05\n",
            "Epoch 850, cost 0.0179, m grad 1.01e-06, b grad -1.19e-05\n",
            "Epoch 851, cost 0.0179, m grad 1.01e-06, b grad -1.19e-05\n",
            "Epoch 852, cost 0.0179, m grad 1.01e-06, b grad -1.19e-05\n",
            "Epoch 853, cost 0.0179, m grad 1.01e-06, b grad -1.19e-05\n",
            "Epoch 854, cost 0.0179, m grad 1.01e-06, b grad -1.19e-05\n",
            "Epoch 855, cost 0.0179, m grad 1.01e-06, b grad -1.19e-05\n",
            "Epoch 856, cost 0.0179, m grad 1.01e-06, b grad -1.19e-05\n",
            "Epoch 857, cost 0.0179, m grad 1.01e-06, b grad -1.19e-05\n",
            "Epoch 858, cost 0.0179, m grad 1.01e-06, b grad -1.19e-05\n",
            "Epoch 859, cost 0.0179, m grad 1.01e-06, b grad -1.19e-05\n",
            "Epoch 860, cost 0.0179, m grad 1.01e-06, b grad -1.19e-05\n",
            "Epoch 861, cost 0.0179, m grad 1.01e-06, b grad -1.19e-05\n",
            "Epoch 862, cost 0.0179, m grad 1.01e-06, b grad -1.19e-05\n",
            "Epoch 863, cost 0.0179, m grad 1.01e-06, b grad -1.19e-05\n",
            "Epoch 864, cost 0.0179, m grad 1.01e-06, b grad -1.19e-05\n",
            "Epoch 865, cost 0.0179, m grad 1.01e-06, b grad -1.19e-05\n",
            "Epoch 866, cost 0.0179, m grad 1.01e-06, b grad -1.19e-05\n",
            "Epoch 867, cost 0.0179, m grad 1.01e-06, b grad -1.19e-05\n",
            "Epoch 868, cost 0.0179, m grad 1.01e-06, b grad -1.19e-05\n",
            "Epoch 869, cost 0.0179, m grad 1.01e-06, b grad -1.19e-05\n",
            "Epoch 870, cost 0.0179, m grad 1.01e-06, b grad -1.19e-05\n",
            "Epoch 871, cost 0.0179, m grad 1.01e-06, b grad -1.19e-05\n",
            "Epoch 872, cost 0.0179, m grad 1.01e-06, b grad -1.19e-05\n",
            "Epoch 873, cost 0.0179, m grad 1.01e-06, b grad -1.19e-05\n",
            "Epoch 874, cost 0.0179, m grad 1.01e-06, b grad -1.19e-05\n",
            "Epoch 875, cost 0.0179, m grad 1.01e-06, b grad -1.19e-05\n",
            "Epoch 876, cost 0.0179, m grad 1.01e-06, b grad -1.19e-05\n",
            "Epoch 877, cost 0.0179, m grad 1.01e-06, b grad -1.19e-05\n",
            "Epoch 878, cost 0.0179, m grad 1.01e-06, b grad -1.19e-05\n",
            "Epoch 879, cost 0.0179, m grad 1.01e-06, b grad -1.19e-05\n",
            "Epoch 880, cost 0.0179, m grad 1.01e-06, b grad -1.19e-05\n",
            "Epoch 881, cost 0.0179, m grad 1.01e-06, b grad -1.19e-05\n",
            "Epoch 882, cost 0.0179, m grad 1.01e-06, b grad -1.19e-05\n",
            "Epoch 883, cost 0.0179, m grad 1.01e-06, b grad -1.19e-05\n",
            "Epoch 884, cost 0.0179, m grad 1.01e-06, b grad -1.19e-05\n",
            "Epoch 885, cost 0.0179, m grad 1.01e-06, b grad -1.19e-05\n",
            "Epoch 886, cost 0.0179, m grad 1.01e-06, b grad -1.19e-05\n",
            "Epoch 887, cost 0.0179, m grad 1.01e-06, b grad -1.19e-05\n",
            "Epoch 888, cost 0.0179, m grad 1.01e-06, b grad -1.19e-05\n",
            "Epoch 889, cost 0.0179, m grad 1.01e-06, b grad -1.19e-05\n",
            "Epoch 890, cost 0.0179, m grad 1.01e-06, b grad -1.19e-05\n",
            "Epoch 891, cost 0.0179, m grad 1.01e-06, b grad -1.19e-05\n",
            "Epoch 892, cost 0.0179, m grad 1.01e-06, b grad -1.19e-05\n",
            "Epoch 893, cost 0.0179, m grad 1.01e-06, b grad -1.19e-05\n",
            "Epoch 894, cost 0.0179, m grad 1.01e-06, b grad -1.19e-05\n",
            "Epoch 895, cost 0.0179, m grad 1.01e-06, b grad -1.19e-05\n",
            "Epoch 896, cost 0.0179, m grad 1.01e-06, b grad -1.19e-05\n",
            "Epoch 897, cost 0.0179, m grad 1.01e-06, b grad -1.19e-05\n",
            "Epoch 898, cost 0.0179, m grad 1.01e-06, b grad -1.19e-05\n",
            "Epoch 899, cost 0.0179, m grad 1.01e-06, b grad -1.19e-05\n",
            "Epoch 900, cost 0.0179, m grad 1.01e-06, b grad -1.19e-05\n",
            "Epoch 901, cost 0.0179, m grad 1.01e-06, b grad -1.19e-05\n",
            "Epoch 902, cost 0.0179, m grad 1.01e-06, b grad -1.19e-05\n",
            "Epoch 903, cost 0.0179, m grad 1.01e-06, b grad -1.19e-05\n",
            "Epoch 904, cost 0.0179, m grad 1.01e-06, b grad -1.19e-05\n",
            "Epoch 905, cost 0.0179, m grad 1.01e-06, b grad -1.19e-05\n",
            "Epoch 906, cost 0.0179, m grad 1.01e-06, b grad -1.19e-05\n",
            "Epoch 907, cost 0.0179, m grad 1.01e-06, b grad -1.19e-05\n",
            "Epoch 908, cost 0.0179, m grad 1.01e-06, b grad -1.19e-05\n",
            "Epoch 909, cost 0.0179, m grad 1.01e-06, b grad -1.19e-05\n",
            "Epoch 910, cost 0.0179, m grad 1.01e-06, b grad -1.19e-05\n",
            "Epoch 911, cost 0.0179, m grad 1.01e-06, b grad -1.19e-05\n",
            "Epoch 912, cost 0.0179, m grad 1.01e-06, b grad -1.19e-05\n",
            "Epoch 913, cost 0.0179, m grad 1.01e-06, b grad -1.19e-05\n",
            "Epoch 914, cost 0.0179, m grad 1.01e-06, b grad -1.19e-05\n",
            "Epoch 915, cost 0.0179, m grad 1.01e-06, b grad -1.19e-05\n",
            "Epoch 916, cost 0.0179, m grad 1.01e-06, b grad -1.19e-05\n",
            "Epoch 917, cost 0.0179, m grad 1.01e-06, b grad -1.19e-05\n",
            "Epoch 918, cost 0.0179, m grad 1.01e-06, b grad -1.19e-05\n",
            "Epoch 919, cost 0.0179, m grad 1.01e-06, b grad -1.19e-05\n",
            "Epoch 920, cost 0.0179, m grad 1.01e-06, b grad -1.19e-05\n",
            "Epoch 921, cost 0.0179, m grad 1.01e-06, b grad -1.19e-05\n",
            "Epoch 922, cost 0.0179, m grad 1.01e-06, b grad -1.19e-05\n",
            "Epoch 923, cost 0.0179, m grad 1.01e-06, b grad -1.19e-05\n",
            "Epoch 924, cost 0.0179, m grad 1.01e-06, b grad -1.19e-05\n",
            "Epoch 925, cost 0.0179, m grad 1.01e-06, b grad -1.19e-05\n",
            "Epoch 926, cost 0.0179, m grad 1.01e-06, b grad -1.19e-05\n",
            "Epoch 927, cost 0.0179, m grad 1.01e-06, b grad -1.19e-05\n",
            "Epoch 928, cost 0.0179, m grad 1.01e-06, b grad -1.19e-05\n",
            "Epoch 929, cost 0.0179, m grad 1.01e-06, b grad -1.19e-05\n",
            "Epoch 930, cost 0.0179, m grad 1.01e-06, b grad -1.19e-05\n",
            "Epoch 931, cost 0.0179, m grad 1.01e-06, b grad -1.19e-05\n",
            "Epoch 932, cost 0.0179, m grad 1.01e-06, b grad -1.19e-05\n",
            "Epoch 933, cost 0.0179, m grad 1.01e-06, b grad -1.19e-05\n",
            "Epoch 934, cost 0.0179, m grad 1.01e-06, b grad -1.19e-05\n",
            "Epoch 935, cost 0.0179, m grad 1.01e-06, b grad -1.19e-05\n",
            "Epoch 936, cost 0.0179, m grad 1.01e-06, b grad -1.19e-05\n",
            "Epoch 937, cost 0.0179, m grad 1.01e-06, b grad -1.19e-05\n",
            "Epoch 938, cost 0.0179, m grad 1.01e-06, b grad -1.19e-05\n",
            "Epoch 939, cost 0.0179, m grad 1.01e-06, b grad -1.19e-05\n",
            "Epoch 940, cost 0.0179, m grad 1.01e-06, b grad -1.19e-05\n",
            "Epoch 941, cost 0.0179, m grad 1.01e-06, b grad -1.19e-05\n",
            "Epoch 942, cost 0.0179, m grad 1.01e-06, b grad -1.19e-05\n",
            "Epoch 943, cost 0.0179, m grad 1.01e-06, b grad -1.19e-05\n",
            "Epoch 944, cost 0.0179, m grad 1.01e-06, b grad -1.19e-05\n",
            "Epoch 945, cost 0.0179, m grad 1.01e-06, b grad -1.19e-05\n",
            "Epoch 946, cost 0.0179, m grad 1.01e-06, b grad -1.19e-05\n",
            "Epoch 947, cost 0.0179, m grad 1.01e-06, b grad -1.19e-05\n",
            "Epoch 948, cost 0.0179, m grad 1.01e-06, b grad -1.19e-05\n",
            "Epoch 949, cost 0.0179, m grad 1.01e-06, b grad -1.19e-05\n",
            "Epoch 950, cost 0.0179, m grad 1.01e-06, b grad -1.19e-05\n",
            "Epoch 951, cost 0.0179, m grad 1.01e-06, b grad -1.19e-05\n",
            "Epoch 952, cost 0.0179, m grad 1.01e-06, b grad -1.19e-05\n",
            "Epoch 953, cost 0.0179, m grad 1.01e-06, b grad -1.19e-05\n",
            "Epoch 954, cost 0.0179, m grad 1.01e-06, b grad -1.19e-05\n",
            "Epoch 955, cost 0.0179, m grad 1.01e-06, b grad -1.19e-05\n",
            "Epoch 956, cost 0.0179, m grad 1.01e-06, b grad -1.19e-05\n",
            "Epoch 957, cost 0.0179, m grad 1.01e-06, b grad -1.19e-05\n",
            "Epoch 958, cost 0.0179, m grad 1.01e-06, b grad -1.19e-05\n",
            "Epoch 959, cost 0.0179, m grad 1.01e-06, b grad -1.19e-05\n",
            "Epoch 960, cost 0.0179, m grad 1.01e-06, b grad -1.19e-05\n",
            "Epoch 961, cost 0.0179, m grad 1.01e-06, b grad -1.19e-05\n",
            "Epoch 962, cost 0.0179, m grad 1.01e-06, b grad -1.19e-05\n",
            "Epoch 963, cost 0.0179, m grad 1.01e-06, b grad -1.19e-05\n",
            "Epoch 964, cost 0.0179, m grad 1.01e-06, b grad -1.19e-05\n",
            "Epoch 965, cost 0.0179, m grad 1.01e-06, b grad -1.19e-05\n",
            "Epoch 966, cost 0.0179, m grad 1.01e-06, b grad -1.19e-05\n",
            "Epoch 967, cost 0.0179, m grad 1.01e-06, b grad -1.19e-05\n",
            "Epoch 968, cost 0.0179, m grad 1.01e-06, b grad -1.19e-05\n",
            "Epoch 969, cost 0.0179, m grad 1.01e-06, b grad -1.19e-05\n",
            "Epoch 970, cost 0.0179, m grad 1.01e-06, b grad -1.19e-05\n",
            "Epoch 971, cost 0.0179, m grad 1.01e-06, b grad -1.19e-05\n",
            "Epoch 972, cost 0.0179, m grad 1.01e-06, b grad -1.19e-05\n",
            "Epoch 973, cost 0.0179, m grad 1.01e-06, b grad -1.19e-05\n",
            "Epoch 974, cost 0.0179, m grad 1.01e-06, b grad -1.19e-05\n",
            "Epoch 975, cost 0.0179, m grad 1.01e-06, b grad -1.19e-05\n",
            "Epoch 976, cost 0.0179, m grad 1.01e-06, b grad -1.19e-05\n",
            "Epoch 977, cost 0.0179, m grad 1.01e-06, b grad -1.19e-05\n",
            "Epoch 978, cost 0.0179, m grad 1.01e-06, b grad -1.19e-05\n",
            "Epoch 979, cost 0.0179, m grad 1.01e-06, b grad -1.19e-05\n",
            "Epoch 980, cost 0.0179, m grad 1.01e-06, b grad -1.19e-05\n",
            "Epoch 981, cost 0.0179, m grad 1.01e-06, b grad -1.19e-05\n",
            "Epoch 982, cost 0.0179, m grad 1.01e-06, b grad -1.19e-05\n",
            "Epoch 983, cost 0.0179, m grad 1.01e-06, b grad -1.19e-05\n",
            "Epoch 984, cost 0.0179, m grad 1.01e-06, b grad -1.19e-05\n",
            "Epoch 985, cost 0.0179, m grad 1.01e-06, b grad -1.19e-05\n",
            "Epoch 986, cost 0.0179, m grad 1.01e-06, b grad -1.19e-05\n",
            "Epoch 987, cost 0.0179, m grad 1.01e-06, b grad -1.19e-05\n",
            "Epoch 988, cost 0.0179, m grad 1.01e-06, b grad -1.19e-05\n",
            "Epoch 989, cost 0.0179, m grad 1.01e-06, b grad -1.19e-05\n",
            "Epoch 990, cost 0.0179, m grad 1.01e-06, b grad -1.19e-05\n",
            "Epoch 991, cost 0.0179, m grad 1.01e-06, b grad -1.19e-05\n",
            "Epoch 992, cost 0.0179, m grad 1.01e-06, b grad -1.19e-05\n",
            "Epoch 993, cost 0.0179, m grad 1.01e-06, b grad -1.19e-05\n",
            "Epoch 994, cost 0.0179, m grad 1.01e-06, b grad -1.19e-05\n",
            "Epoch 995, cost 0.0179, m grad 1.01e-06, b grad -1.19e-05\n",
            "Epoch 996, cost 0.0179, m grad 1.01e-06, b grad -1.19e-05\n",
            "Epoch 997, cost 0.0179, m grad 1.01e-06, b grad -1.19e-05\n",
            "Epoch 998, cost 0.0179, m grad 1.01e-06, b grad -1.19e-05\n",
            "Epoch 999, cost 0.0179, m grad 1.01e-06, b grad -1.19e-05\n"
          ]
        }
      ]
    },
    {
      "cell_type": "code",
      "metadata": {
        "id": "fJeq0EFA09hG",
        "outputId": "355e09b9-c704-45ae-c6d9-499a2135f30b",
        "colab": {
          "base_uri": "https://localhost:8080/",
          "height": 430
        }
      },
      "source": [
        "regression_plot(x, y, m, b)"
      ],
      "execution_count": 29,
      "outputs": [
        {
          "output_type": "display_data",
          "data": {
            "text/plain": [
              "<Figure size 640x480 with 1 Axes>"
            ],
            "image/png": "[encoded data removed]"
          },
          "metadata": {}
        }
      ]
    },
    {
      "cell_type": "code",
      "metadata": {
        "id": "S3B8PB5g09hG",
        "outputId": "69931a5e-b70c-42df-bea0-b5aeaa19ac25",
        "colab": {
          "base_uri": "https://localhost:8080/"
        }
      },
      "source": [
        "m.item()"
      ],
      "execution_count": 25,
      "outputs": [
        {
          "output_type": "execute_result",
          "data": {
            "text/plain": [
              "-0.9971476793289185"
            ]
          },
          "metadata": {},
          "execution_count": 25
        }
      ]
    },
    {
      "cell_type": "code",
      "source": [
        "m"
      ],
      "metadata": {
        "id": "qyiEFZz3V68A",
        "outputId": "d0d15b8a-9d9d-48b4-b68e-5642f0580261",
        "colab": {
          "base_uri": "https://localhost:8080/"
        }
      },
      "execution_count": 32,
      "outputs": [
        {
          "output_type": "execute_result",
          "data": {
            "text/plain": [
              "tensor([-0.9976], requires_grad=True)"
            ]
          },
          "metadata": {},
          "execution_count": 32
        }
      ]
    },
    {
      "cell_type": "code",
      "metadata": {
        "id": "yYaCN83C09hG",
        "outputId": "a9d6d1b8-db45-481b-c680-f625c474b205",
        "colab": {
          "base_uri": "https://localhost:8080/"
        }
      },
      "source": [
        "b.item()"
      ],
      "execution_count": 26,
      "outputs": [
        {
          "output_type": "execute_result",
          "data": {
            "text/plain": [
              "3.874922513961792"
            ]
          },
          "metadata": {},
          "execution_count": 26
        }
      ]
    },
    {
      "cell_type": "markdown",
      "metadata": {
        "id": "GfoFI9-x09hG"
      },
      "source": [
        "**N.B.**: The model doesn't perfectly approximate the slope (-0.5) and $y$-intercept (2.0) used to simulate the outcomes $y$ at the top of this notebook. This reflects the imperfectness of the sample of eight data points due to adding random noise during the simulation step. In the real world, the best solution would be to sample additional data points: The more data we sample, the more accurate our estimates of the true underlying parameters will be."
      ]
    }
  ]
}